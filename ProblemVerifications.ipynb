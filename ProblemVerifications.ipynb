{
 "cells": [
  {
   "cell_type": "markdown",
   "metadata": {},
   "source": [
    "# Verification of Answers to Problems 1 and 2\n",
    "\n",
    "## Foreward Kinematics\n",
    "\n",
    "\n",
    "Using the values from question 1 part A: The joint angles **$\\theta$** are given by \n",
    "\n",
    "$$\n",
    "\\theta = \\begin{bmatrix} \\theta_1 \\\\ \\theta_2 \\end{bmatrix} = \\begin{bmatrix} 5\\pi/6 \\\\ -3\\pi/7 \\end{bmatrix}\n",
    "$$\n",
    "\n",
    "Using the forward kinematic equations we derived from question 1 we find that the transformation matrix from C to 0 is:\n",
    "\n",
    "$$\n",
    "{}^0T_C =\n",
    "\\begin{bmatrix}\n",
    "-0.5   & -0.1927 & 0.8443 & 1.0754 \\\\\n",
    "-0.8660& 0.1113  & -0.4875& 0.3028 \\\\\n",
    "0      & -0.9749 & -0.2225& 1.0220 \\\\\n",
    "0      & 0       & 0      & 1.0\n",
    "\\end{bmatrix}\n",
    "$$\n",
    "\n",
    "The quaternion is: 0.3117 < -0.3909,  0.6771, -0.5400 >\n",
    "\n",
    "Now, using Mujoco we can plug in these **$\\theta$** values and see that the transformation (and quaternion) is the same. \n",
    "\n",
    "\n"
   ]
  },
  {
   "cell_type": "code",
   "execution_count": 25,
   "metadata": {},
   "outputs": [
    {
     "name": "stdout",
     "output_type": "stream",
     "text": [
      "0.3117, <-0.3909, 0.6771, -0.54>\n"
     ]
    },
    {
     "data": {
      "text/latex": [
       "$\\displaystyle \\left[\\begin{matrix}-0.5 & -0.1927 & 0.8443 & 1.0754\\\\-0.866 & 0.1113 & -0.4875 & 0.3028\\\\0.0 & -0.9749 & -0.2225 & 1.022\\\\0.0 & 0.0 & 0.0 & 1.0\\end{matrix}\\right]$"
      ],
      "text/plain": [
       "Matrix([\n",
       "[  -0.5, -0.1927,  0.8443, 1.0754],\n",
       "[-0.866,  0.1113, -0.4875, 0.3028],\n",
       "[   0.0, -0.9749, -0.2225,  1.022],\n",
       "[   0.0,     0.0,     0.0,    1.0]])"
      ]
     },
     "execution_count": 25,
     "metadata": {},
     "output_type": "execute_result"
    }
   ],
   "source": [
    "import mujoco as mj\n",
    "import mujoco.viewer\n",
    "import time\n",
    "import numpy as np\n",
    "import sympy as sp\n",
    "\n",
    "# Load the XML model\n",
    "model = mj.MjModel.from_xml_path(r\"notebooks\\penulum.xml\")\n",
    "data = mj.MjData(model)\n",
    "\n",
    "joint1_name = \"joint1\"\n",
    "joint2_name = \"joint2\"\n",
    "\n",
    "joint1_id = model.joint(joint1_name).id\n",
    "joint2_id = model.joint(joint2_name).id\n",
    "\n",
    "end_effector_body_name=\"end-effector\"\n",
    "end_effector_body_id = model.body(name=end_effector_body_name).id\n",
    "\n",
    "\n",
    "theta1_parta = 5 * np.pi / 6\n",
    "theta2_parta = -3 * np.pi / 7\n",
    "\n",
    "#set model to the given theta values\n",
    "data.qpos[joint1_id] = theta1_parta\n",
    "data.qpos[joint2_id] = theta2_parta\n",
    "\n",
    "mj.mj_forward(model, data)\n",
    "\n",
    "def get_transformation(body_id):\n",
    "    #Extract the positions\n",
    "    rot = data.xmat[body_id].reshape(3,3)\n",
    "    pos = data.xpos[body_id]\n",
    "\n",
    "\n",
    "    #Convert to transformation matrix\n",
    "    transformation = np.eye(4) \n",
    "    transformation[:3, :3] = rot  \n",
    "    transformation[:3, 3] = pos \n",
    "    return transformation\n",
    "\n",
    "def quat_print(quat):\n",
    "    \"\"\"\n",
    "    Prints a quaternion in the format: <w, <x, y, z>>\n",
    "    AI Generated function\n",
    "    \n",
    "    Args:\n",
    "        quat (list or tuple): A quaternion [w, x, y, z]\n",
    "    \"\"\"\n",
    "    if len(quat) != 4:\n",
    "        raise ValueError(\"Quaternion must be a list or tuple of 4 elements [w, x, y, z]\")\n",
    "    \n",
    "    w, x, y, z = [round(val, 4) for val in quat]\n",
    "\n",
    "    print(f\"{w}, <{x}, {y}, {z}>\")\n",
    "\n",
    "\n",
    "\n",
    "\n",
    "#Display\n",
    "quat_print(data.xquat[end_effector_body_id])\n",
    "sp.Matrix(np.round(get_transformation(end_effector_body_id), 4))\n"
   ]
  },
  {
   "cell_type": "markdown",
   "metadata": {},
   "source": [
    "## Inverse Kinematics\n",
    "\n",
    "In Question 1d we are asked to find the values of theta corresponding to a given orientation of the camera frame. To verify this calculation we can plug in the values of theta that we found and see if the orientation matches what was given. \n",
    "\n",
    "\n",
    "The values of theta we found are:\n",
    "\n",
    "$$\n",
    "\\left[\\begin{matrix}-45.0 & 315.0\\\\135.0 & 45.0\\end{matrix}\\right]\n",
    "$$\n",
    " Where each row is one of two possible solutions. Columns 1 and 2 represet **theta1** and **theta2** respectivly.\n",
    "\n",
    "\n",
    "The expected result is:\n",
    "\n",
    "$$\n",
    "k = -\\frac{1}{2} x_0 + \\frac{1}{2} y_0 - \\frac{\\sqrt{2}}{2} z_0.\n",
    "$$"
   ]
  },
  {
   "cell_type": "code",
   "execution_count": 37,
   "metadata": {},
   "outputs": [
    {
     "name": "stdout",
     "output_type": "stream",
     "text": [
      "Expected: \n",
      "[-0.5         0.5        -0.70710678]\n",
      "Actual:\n",
      "\n",
      "[-0.5         0.5        -0.70710678]\n",
      "\n",
      "[ 0.5         0.5        -0.70710678]\n",
      "\n",
      "[-0.5         0.5        -0.70710678]\n",
      "\n",
      "[ 0.5         0.5        -0.70710678]\n",
      "\n"
     ]
    }
   ],
   "source": [
    "solutions = [(-0.785398163397448, 5.49778714378214),\n",
    " (0.785398163397448, 0.785398163397448),\n",
    " (2.35619449019234, 0.785398163397448),\n",
    " (3.92699081698724, 5.49778714378214)]\n",
    "\n",
    "\n",
    "theta1_sol1_partd = np.deg2rad(-45)\n",
    "theta2_sol1_partd = np.deg2rad(135)\n",
    "\n",
    "theta1_sol2_partd = np.deg2rad(315)\n",
    "theta2_sol2_partd = np.deg2rad(45)\n",
    "\n",
    "print(\"Expected: \\n[-0.5         0.5        -0.70710678]\\nActual:\\n\")\n",
    "\n",
    "for solution in solutions:\n",
    "    #set model to solution\n",
    "    data.qpos[joint1_id] = solution[0]\n",
    "    data.qpos[joint2_id] = solution[1]\n",
    "    mj.mj_forward(model, data)\n",
    "    \n",
    "    k = data.xmat[end_effector_body_id].reshape(3,3)[:,2]\n",
    "    print(k)\n",
    "\n",
    "    print()"
   ]
  },
  {
   "cell_type": "markdown",
   "metadata": {},
   "source": [
    "As can be seen above, two of the solutions match the given K vector and two do not, which is exactly what was expected. "
   ]
  }
 ],
 "metadata": {
  "kernelspec": {
   "display_name": "Python 3",
   "language": "python",
   "name": "python3"
  },
  "language_info": {
   "codemirror_mode": {
    "name": "ipython",
    "version": 3
   },
   "file_extension": ".py",
   "mimetype": "text/x-python",
   "name": "python",
   "nbconvert_exporter": "python",
   "pygments_lexer": "ipython3",
   "version": "3.12.3"
  }
 },
 "nbformat": 4,
 "nbformat_minor": 2
}
