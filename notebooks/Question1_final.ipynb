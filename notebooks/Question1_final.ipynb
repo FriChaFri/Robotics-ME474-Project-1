{
 "cells": [
  {
   "cell_type": "markdown",
   "metadata": {},
   "source": [
    "# Question 1\n",
    "Resolve the position-level forward and inverse kinematics of the Furuta pendulum with the help of the coordinate systems shown as shown in the figure. Once you have the kinematic equations, answer the following questions:\n",
    "\n",
    "(a) If the joint angles $ \\theta $ are given by \n",
    "\n",
    "$$\n",
    "\\theta = \\begin{bmatrix} \\theta_1 \\\\ \\theta_2 \\end{bmatrix} = \\begin{bmatrix} \\pi/3 \\\\ -3\\pi/7 \\end{bmatrix}\n",
    "$$\n",
    "\n",
    "what is the pose of the end-effector, i.e., the frame $\\{C\\}$ with respect to the fixed frame $\\{0\\}$? Provide the orientation using both the rotation matrix and the corresponding quaternion.\n",
    "\n",
    "(b) At the same angles given in part (a), what is the pose of frame $\\{2\\}$ with respect to the fixed frame $\\{0\\}$? Provide the orientation using both the rotation matrix and the corresponding quaternion.\n",
    "\n",
    "(c) Provide the axis-angle representation of the orientation for parts (a) and (b). Use rodrigues’s formula to recover the rotation matrices you found in parts (a) and (b).\n",
    "\n",
    "(d) Suppose a camera is installed at the end-effector of the Furuta pendulum. Let $\\{C\\}$ denote the camera frame, as shown. What is the value of $ \\theta_1 $ and $ \\theta_2 $ if the $ z $-axis of the camera points in the direction $ k $, where\n",
    "\n",
    "$$\n",
    "k = -\\frac{1}{2} x_0 + \\frac{1}{2} y_0 - \\frac{\\sqrt{2}}{2} z_0.\n",
    "$$\n",
    "\n",
    "(e) Repeat part (d) to find the value of $ \\theta_1 $ and $ \\theta_2 $ if the origin of frame $\\{C\\}$ is located at a point $ P $, whose coordinate vector is given in frame $\\{0\\}$ by\n",
    "\n",
    "$$\n",
    "p = 1.075x_0 + 0.303y_0 + 1.022z_0.\n",
    "$$\n"
   ]
  },
  {
   "cell_type": "code",
   "execution_count": 434,
   "metadata": {},
   "outputs": [],
   "source": [
    "import sympy as sp\n",
    "import numpy as np\n",
    "from spatialmath import SO3, SE3\n",
    "from spatialmath.base import r2q, qprint, tr2angvec, skew, vex\n",
    "from scipy.linalg import expm # used only for the matrix exponential part of rodrigues formula"
   ]
  },
  {
   "cell_type": "markdown",
   "metadata": {},
   "source": [
    "## Solve Forward Kinimatics\n",
    "Resolve the position-level forward kinematics of the Furuta pendulum with the help of the coordinate systems shown as shown in the figure.\n",
    "\n",
    "Find:<br>\n",
    "$^{0}T_{c} = {}^{0}T_{1} \\, {}^{1}T_{2} \\, {}^{2}T_{c}$"
   ]
  },
  {
   "cell_type": "code",
   "execution_count": 435,
   "metadata": {},
   "outputs": [],
   "source": [
    "d1, d2, d3 = sp.symbols('d1 d2 d3')\n",
    "\n",
    "# Find the position matrixes\n",
    "t01 = sp.Matrix([0,0,d1]) #read as the position of frame 1 in respect to frame 0\n",
    "t12 = sp.Matrix([0,0,d2])\n",
    "t2c = sp.Matrix([0,0,d3])"
   ]
  },
  {
   "cell_type": "code",
   "execution_count": 436,
   "metadata": {},
   "outputs": [
    {
     "data": {
      "text/latex": [
       "$\\displaystyle \\left[\\begin{matrix}\\cos{\\left(\\theta_{1} \\right)} & 0 & \\sin{\\left(\\theta_{1} \\right)}\\\\\\sin{\\left(\\theta_{1} \\right)} & 0 & - \\cos{\\left(\\theta_{1} \\right)}\\\\0 & 1 & 0\\end{matrix}\\right]$"
      ],
      "text/plain": [
       "Matrix([\n",
       "[cos(theta1), 0,  sin(theta1)],\n",
       "[sin(theta1), 0, -cos(theta1)],\n",
       "[          0, 1,            0]])"
      ]
     },
     "execution_count": 436,
     "metadata": {},
     "output_type": "execute_result"
    }
   ],
   "source": [
    "theta1, theta2 = sp.symbols('theta1 theta2')\n",
    "# - Find the Rotation Matrixes\n",
    "# Find R01 (read as the rotation matrix of 1 in respect to 0)\n",
    "\n",
    "Rx90 = SO3.Rx(sp.pi/2) #90 degrees\n",
    "RyTheta1 = SO3.Ry(theta1)\n",
    "R01 = Rx90 * RyTheta1\n",
    "\n",
    "sp.Matrix(R01.A)"
   ]
  },
  {
   "cell_type": "code",
   "execution_count": 437,
   "metadata": {},
   "outputs": [
    {
     "data": {
      "text/latex": [
       "$\\displaystyle \\left[\\begin{matrix}\\cos{\\left(\\theta_{2} \\right)} & 0 & \\sin{\\left(\\theta_{2} \\right)}\\\\\\sin{\\left(\\theta_{2} \\right)} & 0 & - \\cos{\\left(\\theta_{2} \\right)}\\\\0 & 1 & 0\\end{matrix}\\right]$"
      ],
      "text/plain": [
       "Matrix([\n",
       "[cos(theta2), 0,  sin(theta2)],\n",
       "[sin(theta2), 0, -cos(theta2)],\n",
       "[          0, 1,            0]])"
      ]
     },
     "execution_count": 437,
     "metadata": {},
     "output_type": "execute_result"
    }
   ],
   "source": [
    "# Find R12\n",
    "\n",
    "RyTheta2 = SO3.Ry(theta2)\n",
    "R12 = Rx90 * RyTheta2\n",
    "\n",
    "sp.Matrix(R12.A)"
   ]
  },
  {
   "cell_type": "code",
   "execution_count": 438,
   "metadata": {},
   "outputs": [
    {
     "data": {
      "text/latex": [
       "$\\displaystyle \\left[\\begin{matrix}0 & 1 & 0\\\\-1 & 0 & 0\\\\0 & 0 & 1\\end{matrix}\\right]$"
      ],
      "text/plain": [
       "Matrix([\n",
       "[ 0, 1, 0],\n",
       "[-1, 0, 0],\n",
       "[ 0, 0, 1]])"
      ]
     },
     "execution_count": 438,
     "metadata": {},
     "output_type": "execute_result"
    }
   ],
   "source": [
    "# Find R2c\n",
    "\n",
    "Rz270 = SO3.Rz(-sp.pi/2)\n",
    "R2c = Rz270\n",
    "\n",
    "sp.Matrix(R2c.A)"
   ]
  },
  {
   "cell_type": "markdown",
   "metadata": {},
   "source": [
    "Using the position and rotation matrixes, construct coorponding pose."
   ]
  },
  {
   "cell_type": "code",
   "execution_count": 439,
   "metadata": {},
   "outputs": [],
   "source": [
    "def make_pose(R, t): # this function is needed since we are using sympy\n",
    "    \"\"\"\n",
    "    Creates a 4x4 homogeneous transformation matrix T from a rotation matrix R and a translation vector t.\n",
    "    \n",
    "    Parameters:\n",
    "      R : A rotation matrix. This can be an object with a .A attribute (like an SO3 object)\n",
    "          or a standard Sympy Matrix.\n",
    "      t : A 3x1 position vector. It should be a column vector.\n",
    "      \n",
    "    Returns:\n",
    "      T : A 4x4 homogeneous transformation matrix as a Sympy Matrix.\n",
    "    \"\"\"\n",
    "    # Convert the rotation matrix to a standard Sympy Matrix if necessary.\n",
    "    try:\n",
    "        R_mat = sp.Matrix(R.A)\n",
    "    except AttributeError:\n",
    "        R_mat = sp.Matrix(R)\n",
    "    \n",
    "    # Ensure t is a column vector.\n",
    "    t_vec = sp.Matrix(t)\n",
    "    if t_vec.shape[1] != 1:\n",
    "        t_vec = t_vec.T if t_vec.shape[0] == 1 else t_vec\n",
    "    \n",
    "    # Build the transformation matrix by concatenating R and t, and appending the bottom row.\n",
    "    T = sp.Matrix.vstack(\n",
    "        sp.Matrix.hstack(R_mat, t_vec),\n",
    "        sp.Matrix([[0, 0, 0, 1]])\n",
    "    )\n",
    "    return T"
   ]
  },
  {
   "cell_type": "code",
   "execution_count": 440,
   "metadata": {},
   "outputs": [
    {
     "data": {
      "text/latex": [
       "$\\displaystyle \\left[\\begin{matrix}\\cos{\\left(\\theta_{1} \\right)} & 0 & \\sin{\\left(\\theta_{1} \\right)} & 0\\\\\\sin{\\left(\\theta_{1} \\right)} & 0 & - \\cos{\\left(\\theta_{1} \\right)} & 0\\\\0 & 1 & 0 & d_{1}\\\\0 & 0 & 0 & 1\\end{matrix}\\right]$"
      ],
      "text/plain": [
       "Matrix([\n",
       "[cos(theta1), 0,  sin(theta1),  0],\n",
       "[sin(theta1), 0, -cos(theta1),  0],\n",
       "[          0, 1,            0, d1],\n",
       "[          0, 0,            0,  1]])"
      ]
     },
     "execution_count": 440,
     "metadata": {},
     "output_type": "execute_result"
    }
   ],
   "source": [
    "T01 = make_pose(R01, t01)\n",
    "T01"
   ]
  },
  {
   "cell_type": "code",
   "execution_count": 441,
   "metadata": {},
   "outputs": [
    {
     "data": {
      "text/latex": [
       "$\\displaystyle \\left[\\begin{matrix}\\cos{\\left(\\theta_{2} \\right)} & 0 & \\sin{\\left(\\theta_{2} \\right)} & 0\\\\\\sin{\\left(\\theta_{2} \\right)} & 0 & - \\cos{\\left(\\theta_{2} \\right)} & 0\\\\0 & 1 & 0 & d_{2}\\\\0 & 0 & 0 & 1\\end{matrix}\\right]$"
      ],
      "text/plain": [
       "Matrix([\n",
       "[cos(theta2), 0,  sin(theta2),  0],\n",
       "[sin(theta2), 0, -cos(theta2),  0],\n",
       "[          0, 1,            0, d2],\n",
       "[          0, 0,            0,  1]])"
      ]
     },
     "execution_count": 441,
     "metadata": {},
     "output_type": "execute_result"
    }
   ],
   "source": [
    "T12 = make_pose(R12, t12)\n",
    "T12"
   ]
  },
  {
   "cell_type": "code",
   "execution_count": 442,
   "metadata": {},
   "outputs": [
    {
     "data": {
      "text/latex": [
       "$\\displaystyle \\left[\\begin{matrix}0 & 1 & 0 & 0\\\\-1 & 0 & 0 & 0\\\\0 & 0 & 1 & d_{3}\\\\0 & 0 & 0 & 1\\end{matrix}\\right]$"
      ],
      "text/plain": [
       "Matrix([\n",
       "[ 0, 1, 0,  0],\n",
       "[-1, 0, 0,  0],\n",
       "[ 0, 0, 1, d3],\n",
       "[ 0, 0, 0,  1]])"
      ]
     },
     "execution_count": 442,
     "metadata": {},
     "output_type": "execute_result"
    }
   ],
   "source": [
    "T2c = make_pose(R2c, t2c)\n",
    "T2c"
   ]
  },
  {
   "cell_type": "code",
   "execution_count": 443,
   "metadata": {},
   "outputs": [
    {
     "data": {
      "text/latex": [
       "$\\displaystyle \\left[\\begin{matrix}- \\sin{\\left(\\theta_{1} \\right)} & \\cos{\\left(\\theta_{1} \\right)} \\cos{\\left(\\theta_{2} \\right)} & \\sin{\\left(\\theta_{2} \\right)} \\cos{\\left(\\theta_{1} \\right)} & d_{2} \\sin{\\left(\\theta_{1} \\right)} + d_{3} \\sin{\\left(\\theta_{2} \\right)} \\cos{\\left(\\theta_{1} \\right)}\\\\\\cos{\\left(\\theta_{1} \\right)} & \\sin{\\left(\\theta_{1} \\right)} \\cos{\\left(\\theta_{2} \\right)} & \\sin{\\left(\\theta_{1} \\right)} \\sin{\\left(\\theta_{2} \\right)} & - d_{2} \\cos{\\left(\\theta_{1} \\right)} + d_{3} \\sin{\\left(\\theta_{1} \\right)} \\sin{\\left(\\theta_{2} \\right)}\\\\0 & \\sin{\\left(\\theta_{2} \\right)} & - \\cos{\\left(\\theta_{2} \\right)} & d_{1} - d_{3} \\cos{\\left(\\theta_{2} \\right)}\\\\0 & 0 & 0 & 1\\end{matrix}\\right]$"
      ],
      "text/plain": [
       "Matrix([\n",
       "[-sin(theta1), cos(theta1)*cos(theta2), sin(theta2)*cos(theta1),  d2*sin(theta1) + d3*sin(theta2)*cos(theta1)],\n",
       "[ cos(theta1), sin(theta1)*cos(theta2), sin(theta1)*sin(theta2), -d2*cos(theta1) + d3*sin(theta1)*sin(theta2)],\n",
       "[           0,             sin(theta2),            -cos(theta2),                          d1 - d3*cos(theta2)],\n",
       "[           0,                       0,                       0,                                            1]])"
      ]
     },
     "execution_count": 443,
     "metadata": {},
     "output_type": "execute_result"
    }
   ],
   "source": [
    "# Construct final pose\n",
    "\n",
    "T0c = T01 * T12 * T2c\n",
    "T0c"
   ]
  },
  {
   "cell_type": "code",
   "execution_count": 444,
   "metadata": {},
   "outputs": [
    {
     "data": {
      "text/latex": [
       "$\\displaystyle \\left[\\begin{matrix}- \\sin{\\left(\\theta_{1} \\right)} & \\cos{\\left(\\theta_{1} \\right)} \\cos{\\left(\\theta_{2} \\right)} & \\sin{\\left(\\theta_{2} \\right)} \\cos{\\left(\\theta_{1} \\right)}\\\\\\cos{\\left(\\theta_{1} \\right)} & \\sin{\\left(\\theta_{1} \\right)} \\cos{\\left(\\theta_{2} \\right)} & \\sin{\\left(\\theta_{1} \\right)} \\sin{\\left(\\theta_{2} \\right)}\\\\0 & \\sin{\\left(\\theta_{2} \\right)} & - \\cos{\\left(\\theta_{2} \\right)}\\end{matrix}\\right]$"
      ],
      "text/plain": [
       "Matrix([\n",
       "[-sin(theta1), cos(theta1)*cos(theta2), sin(theta2)*cos(theta1)],\n",
       "[ cos(theta1), sin(theta1)*cos(theta2), sin(theta1)*sin(theta2)],\n",
       "[           0,             sin(theta2),            -cos(theta2)]])"
      ]
     },
     "execution_count": 444,
     "metadata": {},
     "output_type": "execute_result"
    }
   ],
   "source": [
    "# extract final rotation matrix\n",
    "R0c = T0c[:3,:3]\n",
    "R0c"
   ]
  },
  {
   "cell_type": "code",
   "execution_count": 445,
   "metadata": {},
   "outputs": [
    {
     "data": {
      "text/latex": [
       "$\\displaystyle \\left[\\begin{matrix}d_{2} \\sin{\\left(\\theta_{1} \\right)} + d_{3} \\sin{\\left(\\theta_{2} \\right)} \\cos{\\left(\\theta_{1} \\right)}\\\\- d_{2} \\cos{\\left(\\theta_{1} \\right)} + d_{3} \\sin{\\left(\\theta_{1} \\right)} \\sin{\\left(\\theta_{2} \\right)}\\\\d_{1} - d_{3} \\cos{\\left(\\theta_{2} \\right)}\\end{matrix}\\right]$"
      ],
      "text/plain": [
       "Matrix([\n",
       "[ d2*sin(theta1) + d3*sin(theta2)*cos(theta1)],\n",
       "[-d2*cos(theta1) + d3*sin(theta1)*sin(theta2)],\n",
       "[                         d1 - d3*cos(theta2)]])"
      ]
     },
     "execution_count": 445,
     "metadata": {},
     "output_type": "execute_result"
    }
   ],
   "source": [
    "# extract final position matrix\n",
    "t0c = T0c[:3, 3]\n",
    "t0c"
   ]
  },
  {
   "cell_type": "markdown",
   "metadata": {},
   "source": [
    "## Solve Inverse Kinematics \n",
    "\n",
    "Resolve the position-level *inverse kinematics* of the Furuta pendulum with the help of the coordinate systems shown as shown in the figure. \n",
    "\n",
    "Determine $ \\theta_1 $ and $ \\theta_2 $ required to achieve the desired position $ t $.\n",
    "\n",
    "### Position Equations:\n",
    "The desired position is given by:\n",
    "\n",
    "$ {}^0t_c = [{}^0x_c, {}^0y_c, {}^0z_c] $\n",
    "\n",
    "where:\n",
    "\n",
    "$ {}^0x_c = f(\\theta_1, \\theta_2) $\n",
    "\n",
    "$ {}^0y_c = f(\\theta_1, \\theta_2) $\n",
    "\n",
    "$ {}^0z_c = f(\\theta_1, \\theta_2) $\n",
    "\n",
    "From these equations, $ \\theta_1 $ and $ \\theta_2 $ can be solved to achieve the desired position.\n"
   ]
  },
  {
   "cell_type": "code",
   "execution_count": 446,
   "metadata": {},
   "outputs": [
    {
     "data": {
      "text/latex": [
       "$\\displaystyle {}^0x_c = d_{2} \\sin{\\left(\\theta_{1} \\right)} + d_{3} \\sin{\\left(\\theta_{2} \\right)} \\cos{\\left(\\theta_{1} \\right)}$"
      ],
      "text/plain": [
       "Eq({}^0x_c, d2*sin(theta1) + d3*sin(theta2)*cos(theta1))"
      ]
     },
     "execution_count": 446,
     "metadata": {},
     "output_type": "execute_result"
    }
   ],
   "source": [
    "xc = sp.symbols(r'{}^0x_c')\n",
    "yc = sp.symbols(r'{}^0y_c')\n",
    "zc = sp.symbols(r'{}^0z_c')\n",
    "\n",
    "# Relate t0c with xc, yc, and zc\n",
    "eq1 = sp.Eq(xc, t0c[0]) #toc[0] extracts the x component of the position of frame c in repect to frame 0\n",
    "eq1"
   ]
  },
  {
   "cell_type": "code",
   "execution_count": 447,
   "metadata": {},
   "outputs": [
    {
     "data": {
      "text/latex": [
       "$\\displaystyle {}^0y_c = - d_{2} \\cos{\\left(\\theta_{1} \\right)} + d_{3} \\sin{\\left(\\theta_{1} \\right)} \\sin{\\left(\\theta_{2} \\right)}$"
      ],
      "text/plain": [
       "Eq({}^0y_c, -d2*cos(theta1) + d3*sin(theta1)*sin(theta2))"
      ]
     },
     "execution_count": 447,
     "metadata": {},
     "output_type": "execute_result"
    }
   ],
   "source": [
    "eq2 = sp.Eq(yc, t0c[1])\n",
    "eq2"
   ]
  },
  {
   "cell_type": "code",
   "execution_count": 448,
   "metadata": {},
   "outputs": [
    {
     "data": {
      "text/latex": [
       "$\\displaystyle {}^0z_c = d_{1} - d_{3} \\cos{\\left(\\theta_{2} \\right)}$"
      ],
      "text/plain": [
       "Eq({}^0z_c, d1 - d3*cos(theta2))"
      ]
     },
     "execution_count": 448,
     "metadata": {},
     "output_type": "execute_result"
    }
   ],
   "source": [
    "eq3 = sp.Eq(zc, t0c[2])\n",
    "eq3"
   ]
  },
  {
   "cell_type": "code",
   "execution_count": 449,
   "metadata": {},
   "outputs": [
    {
     "data": {
      "text/plain": [
       "[(-2*atan((d3*sqrt((-d1 + d3 + {}^0z_c)*(d1 + d3 - {}^0z_c)/d3**2) - sqrt(-d1**2 + 2*d1*{}^0z_c + d2**2 + d3**2 - {}^0y_c**2 - {}^0z_c**2))/(d2 - {}^0y_c)),\n",
       "  acos((d1 - {}^0z_c)/d3)),\n",
       " (2*atan((d3*sqrt((-d1 + d3 + {}^0z_c)*(d1 + d3 - {}^0z_c)/d3**2) - sqrt(-d1**2 + 2*d1*{}^0z_c + d2**2 + d3**2 - {}^0y_c**2 - {}^0z_c**2))/(d2 - {}^0y_c)),\n",
       "  -acos((d1 - {}^0z_c)/d3) + 2*pi),\n",
       " (-2*atan((d3*sqrt((-d1 + d3 + {}^0z_c)*(d1 + d3 - {}^0z_c)/d3**2) + sqrt(-d1**2 + 2*d1*{}^0z_c + d2**2 + d3**2 - {}^0y_c**2 - {}^0z_c**2))/(d2 - {}^0y_c)),\n",
       "  acos((d1 - {}^0z_c)/d3)),\n",
       " (2*atan((d3*sqrt((-d1 + d3 + {}^0z_c)*(d1 + d3 - {}^0z_c)/d3**2) + sqrt(-d1**2 + 2*d1*{}^0z_c + d2**2 + d3**2 - {}^0y_c**2 - {}^0z_c**2))/(d2 - {}^0y_c)),\n",
       "  -acos((d1 - {}^0z_c)/d3) + 2*pi)]"
      ]
     },
     "execution_count": 449,
     "metadata": {},
     "output_type": "execute_result"
    }
   ],
   "source": [
    "# Now solve\n",
    "solutions_for_theta = sp.solve([eq1, eq2, eq3], (theta1, theta2), check=False)\n",
    "# List of 4 possible (theta1, theta2) solutions (see nicely formated version just below)\n",
    "solutions_for_theta\n"
   ]
  },
  {
   "cell_type": "code",
   "execution_count": 450,
   "metadata": {},
   "outputs": [],
   "source": [
    "# # Prints nicely formated Markdown and LaTaX format of all the solutions for copy and pasting\n",
    "# sol_num = 1\n",
    "# print(\"### Inverse Kinematics Solutions\")\n",
    "# print(\"___\")\n",
    "# for a in solutions:\n",
    "#     print()\n",
    "#     print(\"Solution %d:\\n\" % sol_num)\n",
    "#     print(\"$\", end=\" \\\\theta_1 = \")\n",
    "#     print(sp.latex(a[0]), end=\" $\")\n",
    "#     print()\n",
    "#     print()\n",
    "#     print(\"$\", end=\" \\\\theta_2 = \")\n",
    "#     print(sp.latex(a[1]), end=\" $\")\n",
    "#     print()\n",
    "#     print(\"___\")\n",
    "#     sol_num += 1"
   ]
  },
  {
   "cell_type": "markdown",
   "metadata": {},
   "source": [
    "### Inverse Kinematics Solutions\n",
    "___\n",
    "\n",
    "Solution 1:\n",
    "\n",
    "$ \\theta_1 = - 2 \\operatorname{atan}{\\left(\\frac{d_{3} \\sqrt{\\frac{\\left(- d_{1} + d_{3} + {}^0z_c\\right) \\left(d_{1} + d_{3} - {}^0z_c\\right)}{d_{3}^{2}}} - \\sqrt{- d_{1}^{2} + 2 d_{1} {}^0z_c + d_{2}^{2} + d_{3}^{2} - \\left({}^0y_c\\right)^{2} - \\left({}^0z_c\\right)^{2}}}{d_{2} - {}^0y_c} \\right)} $\n",
    "\n",
    "$ \\theta_2 = \\operatorname{acos}{\\left(\\frac{d_{1} - {}^0z_c}{d_{3}} \\right)} $\n",
    "___\n",
    "\n",
    "Solution 2:\n",
    "\n",
    "$ \\theta_1 = 2 \\operatorname{atan}{\\left(\\frac{d_{3} \\sqrt{\\frac{\\left(- d_{1} + d_{3} + {}^0z_c\\right) \\left(d_{1} + d_{3} - {}^0z_c\\right)}{d_{3}^{2}}} - \\sqrt{- d_{1}^{2} + 2 d_{1} {}^0z_c + d_{2}^{2} + d_{3}^{2} - \\left({}^0y_c\\right)^{2} - \\left({}^0z_c\\right)^{2}}}{d_{2} - {}^0y_c} \\right)} $\n",
    "\n",
    "$ \\theta_2 = - \\operatorname{acos}{\\left(\\frac{d_{1} - {}^0z_c}{d_{3}} \\right)} + 2 \\pi $\n",
    "___\n",
    "\n",
    "Solution 3:\n",
    "\n",
    "$ \\theta_1 = - 2 \\operatorname{atan}{\\left(\\frac{d_{3} \\sqrt{\\frac{\\left(- d_{1} + d_{3} + {}^0z_c\\right) \\left(d_{1} + d_{3} - {}^0z_c\\right)}{d_{3}^{2}}} + \\sqrt{- d_{1}^{2} + 2 d_{1} {}^0z_c + d_{2}^{2} + d_{3}^{2} - \\left({}^0y_c\\right)^{2} - \\left({}^0z_c\\right)^{2}}}{d_{2} - {}^0y_c} \\right)} $\n",
    "\n",
    "$ \\theta_2 = \\operatorname{acos}{\\left(\\frac{d_{1} - {}^0z_c}{d_{3}} \\right)} $\n",
    "___\n",
    "\n",
    "Solution 4:\n",
    "...\n",
    "$ \\theta_1 = 2 \\operatorname{atan}{\\left(\\frac{d_{3} \\sqrt{\\frac{\\left(- d_{1} + d_{3} + {}^0z_c\\right) \\left(d_{1} + d_{3} - {}^0z_c\\right)}{d_{3}^{2}}} + \\sqrt{- d_{1}^{2} + 2 d_{1} {}^0z_c + d_{2}^{2} + d_{3}^{2} - \\left({}^0y_c\\right)^{2} - \\left({}^0z_c\\right)^{2}}}{d_{2} - {}^0y_c} \\right)} $\n",
    "\n",
    "$ \\theta_2 = - \\operatorname{acos}{\\left(\\frac{d_{1} - {}^0z_c}{d_{3}} \\right)} + 2 \\pi $\n",
    "___"
   ]
  },
  {
   "cell_type": "markdown",
   "metadata": {},
   "source": [
    "## Part A\n",
    "\n",
    "(a) If the joint angles $ \\theta $ are given by \n",
    "\n",
    "$$\n",
    "\\theta = \\begin{bmatrix} \\theta_1 \\\\ \\theta_2 \\end{bmatrix} = \\begin{bmatrix} \\pi/3 \\\\ -3\\pi/7 \\end{bmatrix}\n",
    "$$\n",
    "\n",
    "what is the pose of the end-effector, i.e., the frame $\\{C\\}$ with respect to the fixed frame $\\{0\\}$,  ${}^0T_c$? Provide the orientation using both the rotation matrix and the corresponding quaternion."
   ]
  },
  {
   "cell_type": "code",
   "execution_count": 451,
   "metadata": {},
   "outputs": [
    {
     "name": "stdout",
     "output_type": "stream",
     "text": [
      "The pose of frame c in repect to frame 0:\n"
     ]
    },
    {
     "data": {
      "text/latex": [
       "$\\displaystyle \\left[\\begin{matrix}- \\frac{\\sqrt{3}}{2} & \\frac{\\cos{\\left(\\frac{3 \\pi}{7} \\right)}}{2} & - \\frac{\\sin{\\left(\\frac{3 \\pi}{7} \\right)}}{2} & - 0.4 \\sin{\\left(\\frac{3 \\pi}{7} \\right)} + 0.4 \\sqrt{3}\\\\\\frac{1}{2} & \\frac{\\sqrt{3} \\cos{\\left(\\frac{3 \\pi}{7} \\right)}}{2} & - \\frac{\\sqrt{3} \\sin{\\left(\\frac{3 \\pi}{7} \\right)}}{2} & - 0.4 \\sqrt{3} \\sin{\\left(\\frac{3 \\pi}{7} \\right)} - 0.4\\\\0 & - \\sin{\\left(\\frac{3 \\pi}{7} \\right)} & - \\cos{\\left(\\frac{3 \\pi}{7} \\right)} & 1.2 - 0.8 \\cos{\\left(\\frac{3 \\pi}{7} \\right)}\\\\0 & 0 & 0 & 1\\end{matrix}\\right]$"
      ],
      "text/plain": [
       "Matrix([\n",
       "[-sqrt(3)/2,         cos(3*pi/7)/2,         -sin(3*pi/7)/2, -0.4*sin(3*pi/7) + 0.4*sqrt(3)],\n",
       "[       1/2, sqrt(3)*cos(3*pi/7)/2, -sqrt(3)*sin(3*pi/7)/2, -0.4*sqrt(3)*sin(3*pi/7) - 0.4],\n",
       "[         0,          -sin(3*pi/7),           -cos(3*pi/7),          1.2 - 0.8*cos(3*pi/7)],\n",
       "[         0,                     0,                      0,                              1]])"
      ]
     },
     "execution_count": 451,
     "metadata": {},
     "output_type": "execute_result"
    }
   ],
   "source": [
    "# With the given angles, the pose is now:\n",
    "T0c_parta = T0c.subs({d1: 1.2, d2: 0.8, d3: 0.8, theta1: sp.pi /3, theta2: -3 * sp.pi / 7})\n",
    "print(\"The pose of frame c in repect to frame 0:\")\n",
    "T0c_parta"
   ]
  },
  {
   "cell_type": "code",
   "execution_count": 452,
   "metadata": {},
   "outputs": [
    {
     "name": "stdout",
     "output_type": "stream",
     "text": [
      "The rotation matrix: \n"
     ]
    },
    {
     "data": {
      "text/latex": [
       "$\\displaystyle \\left[\\begin{matrix}- \\frac{\\sqrt{3}}{2} & \\frac{\\cos{\\left(\\frac{3 \\pi}{7} \\right)}}{2} & - \\frac{\\sin{\\left(\\frac{3 \\pi}{7} \\right)}}{2}\\\\\\frac{1}{2} & \\frac{\\sqrt{3} \\cos{\\left(\\frac{3 \\pi}{7} \\right)}}{2} & - \\frac{\\sqrt{3} \\sin{\\left(\\frac{3 \\pi}{7} \\right)}}{2}\\\\0 & - \\sin{\\left(\\frac{3 \\pi}{7} \\right)} & - \\cos{\\left(\\frac{3 \\pi}{7} \\right)}\\end{matrix}\\right]$"
      ],
      "text/plain": [
       "Matrix([\n",
       "[-sqrt(3)/2,         cos(3*pi/7)/2,         -sin(3*pi/7)/2],\n",
       "[       1/2, sqrt(3)*cos(3*pi/7)/2, -sqrt(3)*sin(3*pi/7)/2],\n",
       "[         0,          -sin(3*pi/7),           -cos(3*pi/7)]])"
      ]
     },
     "execution_count": 452,
     "metadata": {},
     "output_type": "execute_result"
    }
   ],
   "source": [
    "# Extract the rotation matrix\n",
    "R0c_parta = T0c_parta[:3,:3]\n",
    "print(\"The rotation matrix: \")\n",
    "\n",
    "R0c_parta\n"
   ]
  },
  {
   "cell_type": "code",
   "execution_count": 453,
   "metadata": {},
   "outputs": [
    {
     "name": "stdout",
     "output_type": "stream",
     "text": [
      "The quaternian representation of the roatation:\n",
      "\n",
      "-0.1614 <  0.2024,  0.7552, -0.6022 >\n"
     ]
    }
   ],
   "source": [
    "# Quaternian representation of the Rotation matrix\n",
    "R0c_parta = np.array(R0c_parta, dtype=float) #convert R to a np array\n",
    "q_parta = r2q(R0c_parta)\n",
    "print(\"The quaternian representation of the roatation:\\n\")\n",
    "\n",
    "qprint(q_parta)\n"
   ]
  },
  {
   "cell_type": "markdown",
   "metadata": {},
   "source": [
    "## Part B\n",
    "(b) At the same angles given in part (a), what is the pose of frame $\\{2\\}$ with respect to the fixed frame $\\{0\\}$? Provide the orientation using both the rotation matrix and the corresponding quaternion.\n"
   ]
  },
  {
   "cell_type": "code",
   "execution_count": 454,
   "metadata": {},
   "outputs": [
    {
     "name": "stdout",
     "output_type": "stream",
     "text": [
      "The pose of frame 2 in respect to frame 0:\n"
     ]
    },
    {
     "data": {
      "text/latex": [
       "$\\displaystyle \\left[\\begin{matrix}\\frac{\\cos{\\left(\\frac{3 \\pi}{7} \\right)}}{2} & \\frac{\\sqrt{3}}{2} & - \\frac{\\sin{\\left(\\frac{3 \\pi}{7} \\right)}}{2} & 0.4 \\sqrt{3}\\\\\\frac{\\sqrt{3} \\cos{\\left(\\frac{3 \\pi}{7} \\right)}}{2} & - \\frac{1}{2} & - \\frac{\\sqrt{3} \\sin{\\left(\\frac{3 \\pi}{7} \\right)}}{2} & -0.4\\\\- \\sin{\\left(\\frac{3 \\pi}{7} \\right)} & 0 & - \\cos{\\left(\\frac{3 \\pi}{7} \\right)} & 1.2\\\\0 & 0 & 0 & 1\\end{matrix}\\right]$"
      ],
      "text/plain": [
       "Matrix([\n",
       "[        cos(3*pi/7)/2, sqrt(3)/2,         -sin(3*pi/7)/2, 0.4*sqrt(3)],\n",
       "[sqrt(3)*cos(3*pi/7)/2,      -1/2, -sqrt(3)*sin(3*pi/7)/2,        -0.4],\n",
       "[         -sin(3*pi/7),         0,           -cos(3*pi/7),         1.2],\n",
       "[                    0,         0,                      0,           1]])"
      ]
     },
     "execution_count": 454,
     "metadata": {},
     "output_type": "execute_result"
    }
   ],
   "source": [
    "# the pose is\n",
    "T02 = T01 * T12\n",
    "T02_partb = T02.subs({d1: 1.2, d2: 0.8, d3: 0.8, theta1: sp.pi /3, theta2: -3 * sp.pi / 7})\n",
    "print(\"The pose of frame 2 in respect to frame 0:\")\n",
    "T02_partb"
   ]
  },
  {
   "cell_type": "code",
   "execution_count": 455,
   "metadata": {},
   "outputs": [
    {
     "name": "stdout",
     "output_type": "stream",
     "text": [
      "The rotation matrix:\n"
     ]
    },
    {
     "data": {
      "text/latex": [
       "$\\displaystyle \\left[\\begin{matrix}\\frac{\\cos{\\left(\\frac{3 \\pi}{7} \\right)}}{2} & \\frac{\\sqrt{3}}{2} & - \\frac{\\sin{\\left(\\frac{3 \\pi}{7} \\right)}}{2}\\\\\\frac{\\sqrt{3} \\cos{\\left(\\frac{3 \\pi}{7} \\right)}}{2} & - \\frac{1}{2} & - \\frac{\\sqrt{3} \\sin{\\left(\\frac{3 \\pi}{7} \\right)}}{2}\\\\- \\sin{\\left(\\frac{3 \\pi}{7} \\right)} & 0 & - \\cos{\\left(\\frac{3 \\pi}{7} \\right)}\\end{matrix}\\right]$"
      ],
      "text/plain": [
       "Matrix([\n",
       "[        cos(3*pi/7)/2, sqrt(3)/2,         -sin(3*pi/7)/2],\n",
       "[sqrt(3)*cos(3*pi/7)/2,      -1/2, -sqrt(3)*sin(3*pi/7)/2],\n",
       "[         -sin(3*pi/7),         0,           -cos(3*pi/7)]])"
      ]
     },
     "execution_count": 455,
     "metadata": {},
     "output_type": "execute_result"
    }
   ],
   "source": [
    "# so the rotation matrix is\n",
    "R02_partb = T02_partb[:3,:3]\n",
    "print(\"The rotation matrix:\")\n",
    "\n",
    "R02_partb\n"
   ]
  },
  {
   "cell_type": "code",
   "execution_count": 456,
   "metadata": {},
   "outputs": [
    {
     "name": "stdout",
     "output_type": "stream",
     "text": [
      "The quaternian representation of the roatation:\n",
      "\n",
      " 0.3117 <  0.6771,  0.3909, -0.5400 >\n"
     ]
    }
   ],
   "source": [
    "#and the quaternian representation of the rotation matrix is\n",
    "R02_partb = np.array(R02_partb, dtype=float) #convert R to a np array\n",
    "q_partb = r2q(R02_partb)\n",
    "print(\"The quaternian representation of the roatation:\\n\")\n",
    "qprint(q_partb)\n"
   ]
  },
  {
   "cell_type": "markdown",
   "metadata": {},
   "source": [
    "## Part C\n",
    "(c) Provide the axis-angle representation of the orientation for parts (a) and (b). Use Rodrigues’s formula to recover the rotation matrices you found in parts (a) and (b).\n"
   ]
  },
  {
   "cell_type": "code",
   "execution_count": 457,
   "metadata": {},
   "outputs": [
    {
     "name": "stdout",
     "output_type": "stream",
     "text": [
      "The angle axis representation of frame c in respect to frame 0:\n",
      "\n",
      "\tAngle: 2.817 rad\n",
      "\t    or 161.427 degrees\n",
      "\tVector: [-0.20504017 -0.76522035  0.61024286]\n"
     ]
    }
   ],
   "source": [
    "ang0c, axis0c = tr2angvec(R0c_parta, unit='rad')\n",
    "\n",
    "print(\"The angle axis representation of frame c in respect to frame 0:\\n\")\n",
    "print(\"\\tAngle: %.3f rad\" % (ang0c))\n",
    "print(\"\\t    or %.3f degrees\" % np.rad2deg(ang0c))\n",
    "print(\"\\tVector: \" + str(axis0c))"
   ]
  },
  {
   "cell_type": "code",
   "execution_count": 458,
   "metadata": {},
   "outputs": [
    {
     "name": "stdout",
     "output_type": "stream",
     "text": [
      "The angle axis representation of frame 2 in respect to frame 0:\n",
      "\n",
      "\tAngle: 2.508 rad\n",
      "\t    or 143.671 degrees\n",
      "\tVector: [ 0.71259763  0.41141843 -0.56827765]\n"
     ]
    }
   ],
   "source": [
    "ang02, axis02 = tr2angvec(R02_partb, unit='rad')\n",
    "\n",
    "print(\"The angle axis representation of frame 2 in respect to frame 0:\\n\")\n",
    "print(\"\\tAngle: %.3f rad\" % (ang02))\n",
    "print(\"\\t    or %.3f degrees\" % np.rad2deg(ang02))\n",
    "\n",
    "print(\"\\tVector: \" + str(axis02))"
   ]
  },
  {
   "cell_type": "markdown",
   "metadata": {},
   "source": [
    "The equation represents the matrix exponential of a skew-symmetric matrix, which is used in 3D rotation transformations based on the axis-angle representation.\n",
    "\n",
    "$ R = e^{\\widehat{\\omega} \\theta} = \\mathbf{I} + \\sin(\\theta) \\widehat{\\omega} + (1 - \\cos(\\theta)) \\widehat{\\omega}^2 $\n",
    "\n",
    "Where:\n",
    "- $\\omega$ is the **axis of rotation**, a unit vector that defines the direction of rotation.\n",
    "- $\\theta$ is the **scalar part of the axis-angle rotation**, representing the rotation magnitude in radians.\n",
    "- $\\widehat{\\omega}$ is the **skew-symmetric matrix** of $\\omega$, used to compute the rotation matrix.\n",
    "- $\\mathbf{I}$ is the **identity matrix**.\n"
   ]
  },
  {
   "cell_type": "code",
   "execution_count": 459,
   "metadata": {},
   "outputs": [
    {
     "name": "stdout",
     "output_type": "stream",
     "text": [
      "Recovered rotation matrix using matrix exponential: \n",
      "(frame c in respect to frame 0) \n"
     ]
    },
    {
     "data": {
      "text/latex": [
       "$\\displaystyle \\left[\\begin{matrix}-0.866 & 0.111 & -0.487\\\\0.5 & 0.193 & -0.844\\\\0.0 & -0.975 & -0.223\\end{matrix}\\right]$"
      ],
      "text/plain": [
       "Matrix([\n",
       "[-0.866,  0.111, -0.487],\n",
       "[   0.5,  0.193, -0.844],\n",
       "[   0.0, -0.975, -0.223]])"
      ]
     },
     "execution_count": 459,
     "metadata": {},
     "output_type": "execute_result"
    }
   ],
   "source": [
    "#this solves it with matrix exponential for C in 0\n",
    "R0c_parta_matrixExponential = expm(skew(axis0c) * ang0c)\n",
    "\n",
    "print(\"Recovered rotation matrix using matrix exponential: \\n(frame c in respect to frame 0) \")\n",
    "sp.Matrix(R0c_parta_matrixExponential.round(3)) # sympy for nice printing"
   ]
  },
  {
   "cell_type": "code",
   "execution_count": 460,
   "metadata": {},
   "outputs": [
    {
     "name": "stdout",
     "output_type": "stream",
     "text": [
      "Recovered rotation matrix using Rodrigues' formula: \n",
      "(frame c in respect to frame 0) \n"
     ]
    },
    {
     "data": {
      "text/latex": [
       "$\\displaystyle \\left[\\begin{matrix}-0.866 & 0.111 & -0.487\\\\0.5 & 0.193 & -0.844\\\\0.0 & -0.975 & -0.223\\end{matrix}\\right]$"
      ],
      "text/plain": [
       "Matrix([\n",
       "[-0.866,  0.111, -0.487],\n",
       "[   0.5,  0.193, -0.844],\n",
       "[   0.0, -0.975, -0.223]])"
      ]
     },
     "execution_count": 460,
     "metadata": {},
     "output_type": "execute_result"
    }
   ],
   "source": [
    "# this solves it using rodrigues formula for C in 0\n",
    "R0c_parta_rodrigues = SO3() + np.sin(ang0c) * skew(axis0c) + (1 - np.cos(ang0c)) * (np.dot(skew(axis0c), skew(axis0c)))\n",
    "\n",
    "print(\"Recovered rotation matrix using Rodrigues' formula: \\n(frame c in respect to frame 0) \")\n",
    "sp.Matrix(R0c_parta_rodrigues.round(3)) # sympy for nice printing"
   ]
  },
  {
   "cell_type": "code",
   "execution_count": 461,
   "metadata": {},
   "outputs": [
    {
     "name": "stdout",
     "output_type": "stream",
     "text": [
      "As can be seen, Rodrigues' formula correctly recovered the rotation matrix from the angle axis representation.\n",
      "\n",
      "The original rotation matrix: \n",
      "(frame c in respect to frame 0) \n"
     ]
    },
    {
     "data": {
      "text/latex": [
       "$\\displaystyle \\left[\\begin{matrix}-0.866 & 0.111 & -0.487\\\\0.5 & 0.193 & -0.844\\\\0.0 & -0.975 & -0.223\\end{matrix}\\right]$"
      ],
      "text/plain": [
       "Matrix([\n",
       "[-0.866,  0.111, -0.487],\n",
       "[   0.5,  0.193, -0.844],\n",
       "[   0.0, -0.975, -0.223]])"
      ]
     },
     "execution_count": 461,
     "metadata": {},
     "output_type": "execute_result"
    }
   ],
   "source": [
    "# This is our original R0c matrix for comparing\n",
    "print(\"As can be seen, Rodrigues' formula correctly recovered the rotation matrix from the angle axis representation.\\n\")\n",
    "\n",
    "print(\"The original rotation matrix: \\n(frame c in respect to frame 0) \")\n",
    "sp.Matrix(R0c_parta.round(3))\n"
   ]
  },
  {
   "cell_type": "code",
   "execution_count": 462,
   "metadata": {},
   "outputs": [
    {
     "name": "stdout",
     "output_type": "stream",
     "text": [
      "Recovered rotation matrix using matrix exponential: \n",
      "(frame 2 in respect to frame 0) \n"
     ]
    },
    {
     "data": {
      "text/latex": [
       "$\\displaystyle \\left[\\begin{matrix}0.111 & 0.866 & -0.487\\\\0.193 & -0.5 & -0.844\\\\-0.975 & 0.0 & -0.223\\end{matrix}\\right]$"
      ],
      "text/plain": [
       "Matrix([\n",
       "[ 0.111, 0.866, -0.487],\n",
       "[ 0.193,  -0.5, -0.844],\n",
       "[-0.975,   0.0, -0.223]])"
      ]
     },
     "execution_count": 462,
     "metadata": {},
     "output_type": "execute_result"
    }
   ],
   "source": [
    "#this solves it with matrix exponential for 2 in 0\n",
    "R02_parta_matrixExponential = expm(skew(axis02) * ang02)\n",
    "\n",
    "print(\"Recovered rotation matrix using matrix exponential: \\n(frame 2 in respect to frame 0) \")\n",
    "sp.Matrix(R02_parta_matrixExponential.round(3)) # sympy for nice printing"
   ]
  },
  {
   "cell_type": "code",
   "execution_count": 463,
   "metadata": {},
   "outputs": [
    {
     "name": "stdout",
     "output_type": "stream",
     "text": [
      "Recovered rotation matrix using Rodrigues' formula: \n",
      "(frame 2 in respect to frame 0) \n"
     ]
    },
    {
     "data": {
      "text/latex": [
       "$\\displaystyle \\left[\\begin{matrix}0.111 & 0.866 & -0.487\\\\0.193 & -0.5 & -0.844\\\\-0.975 & 0.0 & -0.223\\end{matrix}\\right]$"
      ],
      "text/plain": [
       "Matrix([\n",
       "[ 0.111, 0.866, -0.487],\n",
       "[ 0.193,  -0.5, -0.844],\n",
       "[-0.975,   0.0, -0.223]])"
      ]
     },
     "execution_count": 463,
     "metadata": {},
     "output_type": "execute_result"
    }
   ],
   "source": [
    "# this solves it using rodrigues formula for 2 in 0\n",
    "R02_parta_rodrigues = SO3() + np.sin(ang02) * skew(axis02) + (1 - np.cos(ang02)) * (np.dot(skew(axis02), skew(axis02)))\n",
    "\n",
    "print(\"Recovered rotation matrix using Rodrigues' formula: \\n(frame 2 in respect to frame 0) \")\n",
    "sp.Matrix(R02_parta_rodrigues.round(3)) # sympy for nice printing"
   ]
  },
  {
   "cell_type": "code",
   "execution_count": 464,
   "metadata": {},
   "outputs": [
    {
     "name": "stdout",
     "output_type": "stream",
     "text": [
      "As can be seen, Rodrigues' formula correctly recovered the rotation matrix from the angle axis representation.\n",
      "\n",
      "The original rotation matrix: \n",
      "(frame 2 in respect to frame 0) \n"
     ]
    },
    {
     "data": {
      "text/latex": [
       "$\\displaystyle \\left[\\begin{matrix}0.111 & 0.866 & -0.487\\\\0.193 & -0.5 & -0.844\\\\-0.975 & 0.0 & -0.223\\end{matrix}\\right]$"
      ],
      "text/plain": [
       "Matrix([\n",
       "[ 0.111, 0.866, -0.487],\n",
       "[ 0.193,  -0.5, -0.844],\n",
       "[-0.975,   0.0, -0.223]])"
      ]
     },
     "execution_count": 464,
     "metadata": {},
     "output_type": "execute_result"
    }
   ],
   "source": [
    "# This is our original R0c matrix for comparing\n",
    "print(\"As can be seen, Rodrigues' formula correctly recovered the rotation matrix from the angle axis representation.\\n\")\n",
    "\n",
    "print(\"The original rotation matrix: \\n(frame 2 in respect to frame 0) \")\n",
    "sp.Matrix(R02_partb.round(3))\n"
   ]
  },
  {
   "cell_type": "markdown",
   "metadata": {},
   "source": [
    "## Part D\n",
    "\n",
    "(d) Suppose a camera is installed at the end-effector of the Furuta pendulum. Let $\\{C\\}$ denote the camera frame, as shown. What is the value of $ \\theta_1 $ and $ \\theta_2 $ if the $ z $-axis of the camera points in the direction $ k $, where\n",
    "\n",
    "$$\n",
    "k = -\\frac{1}{2} x_0 + \\frac{1}{2} y_0 - \\frac{\\sqrt{2}}{2} z_0.\n",
    "$$\n",
    "\n",
    "We need to find the solutions for $\\theta_1$ and $\\theta_2$ in this equation:\n",
    "\n",
    "$$\n",
    "\\begin{bmatrix} \n",
    "\\ {}^0z_{c,1} \\\\ \n",
    "\\ {}^0z_{c,2} \\\\ \n",
    "\\ {}^0z_{c,3} \n",
    "\\end{bmatrix} \n",
    "=\n",
    "\\begin{bmatrix} \n",
    "k_1 \\\\ \n",
    "k_2 \\\\ \n",
    "k_3 \n",
    "\\end{bmatrix}\n",
    "\n",
    "\n",
    "\\\\\n",
    "or\n",
    "\\\\\n",
    "\n",
    "\n",
    "\\begin{bmatrix} \n",
    "\\sin{\\left(\\theta_{2} \\right)} \\cos{\\left(\\theta_{1} \\right)} \\\\ \n",
    "\\sin{\\left(\\theta_{1} \\right)} \\sin{\\left(\\theta_{2} \\right)} \\\\ \n",
    "- \\cos{\\left(\\theta_{2} \\right)} \n",
    "\\end{bmatrix} \n",
    "=\n",
    "\\begin{bmatrix} \n",
    "-0.5 \\\\ \n",
    "0.5 \\\\ \n",
    "- \\frac{\\sqrt{2}}{2} \n",
    "\\end{bmatrix}\n",
    "$$\n"
   ]
  },
  {
   "cell_type": "code",
   "execution_count": 465,
   "metadata": {},
   "outputs": [
    {
     "name": "stdout",
     "output_type": "stream",
     "text": [
      "k is the same thing as the z part of the rotation matrix: \n"
     ]
    },
    {
     "data": {
      "text/latex": [
       "$\\displaystyle \\left[\\begin{matrix}\\sin{\\left(\\theta_{2} \\right)} \\cos{\\left(\\theta_{1} \\right)}\\\\\\sin{\\left(\\theta_{1} \\right)} \\sin{\\left(\\theta_{2} \\right)}\\\\- \\cos{\\left(\\theta_{2} \\right)}\\end{matrix}\\right]$"
      ],
      "text/plain": [
       "Matrix([\n",
       "[sin(theta2)*cos(theta1)],\n",
       "[sin(theta1)*sin(theta2)],\n",
       "[           -cos(theta2)]])"
      ]
     },
     "execution_count": 465,
     "metadata": {},
     "output_type": "execute_result"
    }
   ],
   "source": [
    "# Our understanding of this question is that k is the same thing as the z axis part of R0c\n",
    "# or in other words\n",
    "print(\"k is the same thing as the z part of the rotation matrix: \")\n",
    "R0c[:,2] # the z part of the rotation matrix"
   ]
  },
  {
   "cell_type": "code",
   "execution_count": 466,
   "metadata": {},
   "outputs": [
    {
     "name": "stdout",
     "output_type": "stream",
     "text": [
      "The solutions for theta1 and theta2 to satisfy k are given here in radians.\n",
      "Each row is one of four possible solutions. Columns 1 and 2 represet theta1 and theta2 respectivly.\n"
     ]
    },
    {
     "data": {
      "text/plain": [
       "[(-0.785398163397448, 5.49778714378214),\n",
       " (0.785398163397448, 0.785398163397448),\n",
       " (2.35619449019234, 0.785398163397448),\n",
       " (3.92699081698724, 5.49778714378214)]"
      ]
     },
     "execution_count": 466,
     "metadata": {},
     "output_type": "execute_result"
    }
   ],
   "source": [
    "# define k\n",
    "k = sp.Matrix([-1/2, 1/2, -sp.sqrt(2)/2])\n",
    "# set up equations\n",
    "eq1_partd = sp.Eq(R0c[0,2], k[0])\n",
    "eq2_partd = sp.Eq(R0c[1,2], k[1])\n",
    "eq3_partd = sp.Eq(R0c[2,2], k[2])\n",
    "\n",
    "# solve for theta1 and theta2\n",
    "solutionPartD = sp.solve([eq1_partd, eq2_partd, eq3_partd], (theta1, theta2), check=False)\n",
    "\n",
    "#The 4 different solutions for theta1 and theta2 in rad\n",
    "print(\"The solutions for theta1 and theta2 to satisfy k are given here in radians.\")\n",
    "print(\"Each row is one of four possible solutions. Columns 1 and 2 represet theta1 and theta2 respectivly.\")\n",
    "solutionPartD"
   ]
  },
  {
   "cell_type": "code",
   "execution_count": 467,
   "metadata": {},
   "outputs": [
    {
     "name": "stdout",
     "output_type": "stream",
     "text": [
      "The same solutions from above in degrees:\n",
      "Each row is one of four possible solutions. Columns 1 and 2 represet theta1 and theta2 respectivly.\n"
     ]
    },
    {
     "data": {
      "text/latex": [
       "$\\displaystyle \\left[\\begin{matrix}-45.0 & 315.0\\\\45.0 & 45.0\\\\135.0 & 45.0\\\\225.0 & 315.0\\end{matrix}\\right]$"
      ],
      "text/plain": [
       "Matrix([\n",
       "[-45.0, 315.0],\n",
       "[ 45.0,  45.0],\n",
       "[135.0,  45.0],\n",
       "[225.0, 315.0]])"
      ]
     },
     "execution_count": 467,
     "metadata": {},
     "output_type": "execute_result"
    }
   ],
   "source": [
    "#convert theta1 and theta2 into degrees\n",
    "solutionPartD_list = []\n",
    "for a in solutionPartD:\n",
    "    solutionPartD_list.append(a)\n",
    "solutionPartD_deg = np.rad2deg(np.array(solutionPartD_list, dtype=float))\n",
    "\n",
    "print(\"The same solutions from above in degrees:\")\n",
    "print(\"Each row is one of four possible solutions. Columns 1 and 2 represet theta1 and theta2 respectivly.\")\n",
    "sp.Matrix(solutionPartD_deg)"
   ]
  },
  {
   "cell_type": "markdown",
   "metadata": {},
   "source": [
    "We are given 4 solutions here, lets check them all to see which ones make sense.\n",
    "\n",
    "We will do this by plugging theta into the pose of frame c in respect to frame 0 and comparing it to the orientation of k to the orientation of the z axis. If they are the same, then we have correctly found angles to make the end effector have that orientation."
   ]
  },
  {
   "cell_type": "code",
   "execution_count": 468,
   "metadata": {},
   "outputs": [
    {
     "name": "stdout",
     "output_type": "stream",
     "text": [
      "\n",
      "Correct solutions found:\n",
      "\n",
      "Solution 1:\n",
      "Theta1 and theta2:\n",
      "\t(-0.785398163397448, 5.49778714378214)\n",
      "Result in this pose:\n",
      "\n",
      "⎡0.707106781186547         0.5                 -0.5         -0.965685424949238⎤\n",
      "⎢                                                                             ⎥\n",
      "⎢0.707106781186548         -0.5                0.5          -0.165685424949238⎥\n",
      "⎢                                                                             ⎥\n",
      "⎢        0          -0.707106781186548  -0.707106781186547  0.634314575050762 ⎥\n",
      "⎢                                                                             ⎥\n",
      "⎣        0                  0                   0                   1         ⎦\n",
      "\n",
      "Solution 2:\n",
      "Theta1 and theta2:\n",
      "\t(2.35619449019234, 0.785398163397448)\n",
      "Result in this pose:\n",
      "\n",
      "⎡-0.707106781186548        -0.5                -0.5         0.165685424949238⎤\n",
      "⎢                                                                            ⎥\n",
      "⎢-0.707106781186547         0.5                0.5          0.965685424949238⎥\n",
      "⎢                                                                            ⎥\n",
      "⎢        0           0.707106781186547  -0.707106781186548  0.634314575050762⎥\n",
      "⎢                                                                            ⎥\n",
      "⎣        0                   0                  0                   1        ⎦\n",
      "\n"
     ]
    }
   ],
   "source": [
    "correct_solutions = []\n",
    "corresponding_theta = []\n",
    "# Plug in solution to pose, check to see if the z part of the rotation matrix matches up with k\n",
    "for theta_iterate in solutionPartD:\n",
    "    solution_on_trial = T0c.subs({theta1: theta_iterate[0], theta2: theta_iterate[1], d1: 1.2, d2: 0.8, d3: 0.8})\n",
    "    dif = solution_on_trial[:3,2] - k # solution_on_trial is the pose, index [:3,2] extracts z part of the rotation matrix\n",
    "    if dif[0] < 0.00001 and dif[1] < 0.00001 and dif[2] < 0.00001:\n",
    "        correct_solutions.append(solution_on_trial) \n",
    "        corresponding_theta.append(theta_iterate)\n",
    "\n",
    "print(\"\\nCorrect solutions found:\\n\")\n",
    "for a in range(len(correct_solutions)):\n",
    "    print(\"Solution %d:\" % (a+1))\n",
    "    print(\"Theta1 and theta2:\", end=\"\\n\\t\")\n",
    "    sp.pprint(corresponding_theta[a])\n",
    "    print(\"Result in this pose:\\n\")\n",
    "    sp.pprint(correct_solutions[a])\n",
    "    print()\n"
   ]
  },
  {
   "cell_type": "markdown",
   "metadata": {},
   "source": [
    "We can see from the 4 solutions, only 2 correctly represent positions that match k. To narrow down only one solution, we would need position information."
   ]
  },
  {
   "cell_type": "markdown",
   "metadata": {},
   "source": [
    "# Part E\n",
    "(e) Repeat part (d) to find the value of $ \\theta_1 $ and $ \\theta_2 $ if the origin of frame $\\{C\\}$ is located at a point $ P $, whose coordinate vector is given in frame $\\{0\\}$ by\n",
    "\n",
    "$$\n",
    "p = 1.075x_0 + 0.303y_0 + 1.022z_0.\n",
    "$$\n"
   ]
  },
  {
   "cell_type": "markdown",
   "metadata": {},
   "source": [
    "Remember from the Inverse Kinematics section that we found these functions:\n",
    "\n",
    "$ \\theta_1 = f({}^0x_c, {}^0y_c, {}^0z_c) $\n",
    "\n",
    "$ \\theta_2 = f({}^0x_c, {}^0y_c, {}^0z_c) $\n",
    "\n",
    "In the following code, we will be plugging $ p $ into $ {}^0x_c, {}^0y_c, $ and $ {}^0z_c $ and figuring out what $ \\theta_1 $ and $ \\theta_2 $ could be. "
   ]
  },
  {
   "cell_type": "code",
   "execution_count": null,
   "metadata": {},
   "outputs": [
    {
     "name": "stdout",
     "output_type": "stream",
     "text": [
      "All possible solution pairs for theta that correspond to point p in radians.\n"
     ]
    },
    {
     "data": {
      "text/plain": [
       "[(1.07272370972679, 1.34641832379787),\n",
       " (-1.07272370972679, -1.34641832379787 + 2*pi),\n",
       " (-2.61813591673788, 1.34641832379787),\n",
       " (2.61813591673788, -1.34641832379787 + 2*pi)]"
      ]
     },
     "execution_count": 469,
     "metadata": {},
     "output_type": "execute_result"
    }
   ],
   "source": [
    "theta_on_trial_dict = {\n",
    "    d1: 1.2, \n",
    "    d2: 0.8, \n",
    "    d3: 0.8,\n",
    "    xc: 1.075,\n",
    "    yc: 0.303,\n",
    "    zc: 1.022\n",
    "}\n",
    "\n",
    "# Plug p into solutions_for_theta to get possible outputs of theta\n",
    "theta_options_partE = []\n",
    "for a in range(len(solutions_for_theta)):\n",
    "    temp_list = []\n",
    "    for b in range(len(solutions_for_theta[0])):\n",
    "        theta_current_value = solutions_for_theta[a][b].subs(theta_on_trial_dict)\n",
    "        temp_list.append(theta_current_value)\n",
    "    theta_options_partE.append(tuple(temp_list))\n",
    "\n",
    "print(\"All possible solution pairs for theta that correspond to point p in radians.\")\n",
    "theta_options_partE"
   ]
  },
  {
   "cell_type": "markdown",
   "metadata": {},
   "source": [
    "Now we need to check which solutions make sense. Lets plug in these theta values and see if we get the correct position after."
   ]
  },
  {
   "cell_type": "code",
   "execution_count": null,
   "metadata": {},
   "outputs": [
    {
     "name": "stdout",
     "output_type": "stream",
     "text": [
      "\n",
      "-- Correct solutions found: --\n",
      "\n",
      "Solution 1:\n",
      "Theta1 and theta2 in rad:\n",
      "\t(-1.07272370972679, -1.34641832379787 + 2⋅π)\n",
      "Result in this pose:\n",
      "\n",
      "⎡0.878504967894967  0.106295639561954   -0.465757724996567  -1.07541015431323⎤\n",
      "⎢                                                                            ⎥\n",
      "⎢0.477733211514401  -0.19546735535663   0.856483211514401         0.303      ⎥\n",
      "⎢                                                                            ⎥\n",
      "⎢        0          -0.974932689984288       -0.2225              1.022      ⎥\n",
      "⎢                                                                            ⎥\n",
      "⎣        0                  0                   0                   1        ⎦\n",
      "\n",
      "Solution 2:\n",
      "Theta1 and theta2 in rad:\n",
      "\t(-2.61813591673788, 1.34641832379787)\n",
      "Result in this pose:\n",
      "\n",
      "⎡0.499876985793974   -0.192706452208752  -0.84438570709756   -1.07541015431323⎤\n",
      "⎢                                                                             ⎥\n",
      "⎢-0.866096414421357  -0.111222629339159  -0.487346414421357        0.303      ⎥\n",
      "⎢                                                                             ⎥\n",
      "⎢        0           0.974932689984288        -0.2225              1.022      ⎥\n",
      "⎢                                                                             ⎥\n",
      "⎣        0                   0                   0                   1        ⎦\n",
      "\n"
     ]
    }
   ],
   "source": [
    "p = sp.Matrix([1.075, 0.303, 1.022])\n",
    "\n",
    "# Plug in theta to pose, check to see if the position of the pose matches up with p\n",
    "correct_solutions = []\n",
    "corresponding_theta = []\n",
    "for theta_iterate in theta_options_partE:\n",
    "    pose_on_trial = T0c.subs({theta1: theta_iterate[0], theta2: theta_iterate[1], d1: 1.2, d2: 0.8, d3: 0.8})\n",
    "    dif = pose_on_trial[:3,3] - p # pose_on_trial is the pose, index [:3,3] extracts the position\n",
    "    if dif[0] < 0.00001 and dif[1] < 0.00001 and dif[2] < 0.00001:\n",
    "        correct_solutions.append(pose_on_trial) \n",
    "        corresponding_theta.append(theta_iterate)\n",
    "\n",
    "print(\"\\n-- Correct solutions found: --\\n\")\n",
    "for a in range(len(correct_solutions)):\n",
    "    print(\"Solution %d:\" % (a+1))\n",
    "    print(\"Theta1 and theta2 in rad:\", end=\"\\n\\t\")\n",
    "    sp.pprint(corresponding_theta[a])\n",
    "    print(\"Result in this pose:\\n\")\n",
    "    sp.pprint(correct_solutions[a])\n",
    "    print()\n"
   ]
  }
 ],
 "metadata": {
  "kernelspec": {
   "display_name": ".venv",
   "language": "python",
   "name": "python3"
  },
  "language_info": {
   "codemirror_mode": {
    "name": "ipython",
    "version": 3
   },
   "file_extension": ".py",
   "mimetype": "text/x-python",
   "name": "python",
   "nbconvert_exporter": "python",
   "pygments_lexer": "ipython3",
   "version": "3.12.8"
  }
 },
 "nbformat": 4,
 "nbformat_minor": 2
}
