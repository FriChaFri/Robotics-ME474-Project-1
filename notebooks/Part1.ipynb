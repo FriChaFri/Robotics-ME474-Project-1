{
 "cells": [
  {
   "cell_type": "markdown",
   "metadata": {
    "vscode": {
     "languageId": "plaintext"
    }
   },
   "source": [
    "# Question 1\n",
    "\n"
   ]
  },
  {
   "cell_type": "markdown",
   "metadata": {},
   "source": [
    "## Imports"
   ]
  },
  {
   "cell_type": "markdown",
   "metadata": {},
   "source": [
    "**NumPy is used for numerical array computations and matrix operations. You can do things like:**  \n",
    "Perform matrix multiplication and other linear algebra operations\n",
    "\n",
    "```python\n",
    "import numpy as np\n",
    "\n",
    "# Define two 4x4 matrices (e.g., transformation matrices in 3D)\n",
    "A = np.array([\n",
    "    [1, 0, 0, 1],\n",
    "    [0, 1, 0, 2],\n",
    "    [0, 0, 1, 3],\n",
    "    [0, 0, 0, 1]\n",
    "])\n",
    "B = np.array([\n",
    "    [0, -1, 0, 0],\n",
    "    [1,  0, 0, 0],\n",
    "    [0,  0, 1, 0],\n",
    "    [0,  0, 0, 1]\n",
    "])\n",
    "\n",
    "# Multiply the matrices\n",
    "product = A @ B\n",
    "print(product)\n",
    "```\n",
    "\n",
    "**Sympy is used for symbolic math. You can do things like:**  \n",
    "Define symbolic variables and build a 4x4 homogeneous transformation matrix for 3D\n",
    "\n",
    "```python\n",
    "import sympy as sp\n",
    "\n",
    "# Define symbolic variables\n",
    "theta = sp.symbols('theta')\n",
    "tx, ty, tz = sp.symbols('tx ty tz')\n",
    "\n",
    "# Build a 4x4 homogeneous transformation matrix for 3D\n",
    "T = sp.Matrix([\n",
    "    [sp.cos(theta), -sp.sin(theta), 0, tx],\n",
    "    [sp.sin(theta),  sp.cos(theta), 0, ty],\n",
    "    [0,             0,             1, tz],\n",
    "    [0,             0,             0, 1]\n",
    "])\n",
    "\n",
    "# Print Results\n",
    "sp.pprint(T)\n",
    "```\n",
    "\n",
    "**SpatialMath is used for spatial transformations and robotics kinematics in 3D. You can do things like:**  \n",
    "Create rotation and transformation matrices, and combine rotations with translations<br>\n",
    "SE and SO stand for Special Euclidian and Orthoganal grouped matrixes\n",
    "\n",
    "\n",
    "```python\n",
    "from spatialmath import SE3, SO3\n",
    "import numpy as np\n",
    "\n",
    "# Create a 3D rotation matrix: 45° rotation about the z-axis\n",
    "R = SO3.Rz(np.deg2rad(45))\n",
    "print(\"Rotation Matrix:\\n\", R.A)\n",
    "\n",
    "# Create a 3D homogeneous transformation: translation + rotation\n",
    "T = SE3([1, 2, 3]) * SE3.Rz(np.deg2rad(30))\n",
    "print(\"Homogeneous Transformation Matrix:\\n\", T.A)\n",
    "```"
   ]
  },
  {
   "cell_type": "code",
   "execution_count": 27,
   "metadata": {},
   "outputs": [],
   "source": [
    "import sympy as sp\n",
    "import numpy as np\n",
    "from spatialmath import SO3, SE3"
   ]
  },
  {
   "cell_type": "markdown",
   "metadata": {},
   "source": [
    "## Solve Forward Kinimatics. Find:\n",
    "$^{0}T_{c} = {}^{0}T_{1} \\, {}^{1}T_{2} \\, {}^{2}T_{c}$"
   ]
  },
  {
   "cell_type": "markdown",
   "metadata": {},
   "source": [
    "The translation Matrixes are simple"
   ]
  },
  {
   "cell_type": "code",
   "execution_count": 28,
   "metadata": {},
   "outputs": [],
   "source": [
    "d1, d2, d3 = sp.symbols('d1 d2 d3')\n",
    "\n",
    "t01 = sp.Matrix([0,0,d1]) #read as the translation of frame 1 in respect to frame 0\n",
    "t12 = sp.Matrix([0,0,d2])\n",
    "t2c = sp.Matrix([0,0,d3])"
   ]
  },
  {
   "cell_type": "markdown",
   "metadata": {},
   "source": [
    "The rotation matrixes take a little more effort"
   ]
  },
  {
   "cell_type": "code",
   "execution_count": 29,
   "metadata": {},
   "outputs": [
    {
     "data": {
      "text/latex": [
       "$\\displaystyle \\left[\\begin{matrix}\\cos{\\left(\\theta_{1} \\right)} & 0 & \\sin{\\left(\\theta_{1} \\right)}\\\\\\sin{\\left(\\theta_{1} \\right)} & 0 & - \\cos{\\left(\\theta_{1} \\right)}\\\\0 & 1 & 0\\end{matrix}\\right]$"
      ],
      "text/plain": [
       "Matrix([\n",
       "[cos(theta1), 0,  sin(theta1)],\n",
       "[sin(theta1), 0, -cos(theta1)],\n",
       "[          0, 1,            0]])"
      ]
     },
     "execution_count": 29,
     "metadata": {},
     "output_type": "execute_result"
    }
   ],
   "source": [
    "theta1, theta2 = sp.symbols('theta1 theta2')\n",
    "\n",
    "# Find R01 (read as the rotation matrix of 1 in respect to 0)\n",
    "\n",
    "Rx90 = SO3.Rx(sp.pi/2) #90 degrees\n",
    "RyTheta1 = SO3.Ry(theta1)\n",
    "R01 = Rx90 * RyTheta1\n",
    "\n",
    "sp.Matrix(R01.A)\n"
   ]
  },
  {
   "cell_type": "code",
   "execution_count": 30,
   "metadata": {},
   "outputs": [
    {
     "data": {
      "text/latex": [
       "$\\displaystyle \\left[\\begin{matrix}\\cos{\\left(\\theta_{2} \\right)} & 0 & \\sin{\\left(\\theta_{2} \\right)}\\\\\\sin{\\left(\\theta_{2} \\right)} & 0 & - \\cos{\\left(\\theta_{2} \\right)}\\\\0 & 1 & 0\\end{matrix}\\right]$"
      ],
      "text/plain": [
       "Matrix([\n",
       "[cos(theta2), 0,  sin(theta2)],\n",
       "[sin(theta2), 0, -cos(theta2)],\n",
       "[          0, 1,            0]])"
      ]
     },
     "execution_count": 30,
     "metadata": {},
     "output_type": "execute_result"
    }
   ],
   "source": [
    "# Find R12\n",
    "\n",
    "RyTheta2 = SO3.Ry(theta2)\n",
    "R12 = Rx90 * RyTheta2\n",
    "\n",
    "sp.Matrix(R12.A)"
   ]
  },
  {
   "cell_type": "code",
   "execution_count": 31,
   "metadata": {},
   "outputs": [
    {
     "data": {
      "text/latex": [
       "$\\displaystyle \\left[\\begin{matrix}0 & 1 & 0\\\\-1 & 0 & 0\\\\0 & 0 & 1\\end{matrix}\\right]$"
      ],
      "text/plain": [
       "Matrix([\n",
       "[ 0, 1, 0],\n",
       "[-1, 0, 0],\n",
       "[ 0, 0, 1]])"
      ]
     },
     "execution_count": 31,
     "metadata": {},
     "output_type": "execute_result"
    }
   ],
   "source": [
    "# Find R2c\n",
    "\n",
    "Rz270 = SO3.Rz(-sp.pi/2)\n",
    "R2c = Rz270\n",
    "\n",
    "sp.Matrix(R2c.A)"
   ]
  },
  {
   "cell_type": "markdown",
   "metadata": {},
   "source": [
    "So now we can put together the transformation matrixes"
   ]
  },
  {
   "cell_type": "code",
   "execution_count": 32,
   "metadata": {},
   "outputs": [],
   "source": [
    "def make_transform(R, t):\n",
    "    \"\"\"\n",
    "    Creates a 4x4 homogeneous transformation matrix T from a rotation matrix R and a translation vector t.\n",
    "    \n",
    "    Parameters:\n",
    "      R : A rotation matrix. This can be an object with a .A attribute (like an SO3 object)\n",
    "          or a standard Sympy Matrix.\n",
    "      t : A 3x1 translation vector. It should be a column vector.\n",
    "      \n",
    "    Returns:\n",
    "      T : A 4x4 homogeneous transformation matrix as a Sympy Matrix.\n",
    "    \"\"\"\n",
    "    # Convert the rotation matrix to a standard Sympy Matrix if necessary.\n",
    "    try:\n",
    "        R_mat = sp.Matrix(R.A)\n",
    "    except AttributeError:\n",
    "        R_mat = sp.Matrix(R)\n",
    "    \n",
    "    # Ensure t is a column vector.\n",
    "    t_vec = sp.Matrix(t)\n",
    "    if t_vec.shape[1] != 1:\n",
    "        t_vec = t_vec.T if t_vec.shape[0] == 1 else t_vec\n",
    "    \n",
    "    # Build the transformation matrix by concatenating R and t, and appending the bottom row.\n",
    "    T = sp.Matrix.vstack(\n",
    "        sp.Matrix.hstack(R_mat, t_vec),\n",
    "        sp.Matrix([[0, 0, 0, 1]])\n",
    "    )\n",
    "    return T"
   ]
  },
  {
   "cell_type": "code",
   "execution_count": 33,
   "metadata": {},
   "outputs": [
    {
     "data": {
      "text/latex": [
       "$\\displaystyle \\left[\\begin{matrix}\\cos{\\left(\\theta_{1} \\right)} & 0 & \\sin{\\left(\\theta_{1} \\right)} & 0\\\\\\sin{\\left(\\theta_{1} \\right)} & 0 & - \\cos{\\left(\\theta_{1} \\right)} & 0\\\\0 & 1 & 0 & d_{1}\\\\0 & 0 & 0 & 1\\end{matrix}\\right]$"
      ],
      "text/plain": [
       "Matrix([\n",
       "[cos(theta1), 0,  sin(theta1),  0],\n",
       "[sin(theta1), 0, -cos(theta1),  0],\n",
       "[          0, 1,            0, d1],\n",
       "[          0, 0,            0,  1]])"
      ]
     },
     "execution_count": 33,
     "metadata": {},
     "output_type": "execute_result"
    }
   ],
   "source": [
    "T01 = make_transform(R01, t01)\n",
    "sp.Matrix(T01)"
   ]
  },
  {
   "cell_type": "code",
   "execution_count": 34,
   "metadata": {},
   "outputs": [
    {
     "data": {
      "text/latex": [
       "$\\displaystyle \\left[\\begin{matrix}\\cos{\\left(\\theta_{2} \\right)} & 0 & \\sin{\\left(\\theta_{2} \\right)} & 0\\\\\\sin{\\left(\\theta_{2} \\right)} & 0 & - \\cos{\\left(\\theta_{2} \\right)} & 0\\\\0 & 1 & 0 & d_{2}\\\\0 & 0 & 0 & 1\\end{matrix}\\right]$"
      ],
      "text/plain": [
       "Matrix([\n",
       "[cos(theta2), 0,  sin(theta2),  0],\n",
       "[sin(theta2), 0, -cos(theta2),  0],\n",
       "[          0, 1,            0, d2],\n",
       "[          0, 0,            0,  1]])"
      ]
     },
     "execution_count": 34,
     "metadata": {},
     "output_type": "execute_result"
    }
   ],
   "source": [
    "T12 = make_transform(R12, t12)\n",
    "sp.Matrix(T12)"
   ]
  },
  {
   "cell_type": "code",
   "execution_count": 35,
   "metadata": {},
   "outputs": [
    {
     "data": {
      "text/latex": [
       "$\\displaystyle \\left[\\begin{matrix}0 & 1 & 0 & 0\\\\-1 & 0 & 0 & 0\\\\0 & 0 & 1 & d_{3}\\\\0 & 0 & 0 & 1\\end{matrix}\\right]$"
      ],
      "text/plain": [
       "Matrix([\n",
       "[ 0, 1, 0,  0],\n",
       "[-1, 0, 0,  0],\n",
       "[ 0, 0, 1, d3],\n",
       "[ 0, 0, 0,  1]])"
      ]
     },
     "execution_count": 35,
     "metadata": {},
     "output_type": "execute_result"
    }
   ],
   "source": [
    "T2c = make_transform(R2c, t2c)\n",
    "sp.Matrix(T2c)"
   ]
  },
  {
   "cell_type": "code",
   "execution_count": 36,
   "metadata": {},
   "outputs": [
    {
     "data": {
      "text/latex": [
       "$\\displaystyle \\left[\\begin{matrix}- \\sin{\\left(\\theta_{1} \\right)} & \\cos{\\left(\\theta_{1} \\right)} \\cos{\\left(\\theta_{2} \\right)} & \\sin{\\left(\\theta_{2} \\right)} \\cos{\\left(\\theta_{1} \\right)} & d_{2} \\sin{\\left(\\theta_{1} \\right)} + d_{3} \\sin{\\left(\\theta_{2} \\right)} \\cos{\\left(\\theta_{1} \\right)}\\\\\\cos{\\left(\\theta_{1} \\right)} & \\sin{\\left(\\theta_{1} \\right)} \\cos{\\left(\\theta_{2} \\right)} & \\sin{\\left(\\theta_{1} \\right)} \\sin{\\left(\\theta_{2} \\right)} & - d_{2} \\cos{\\left(\\theta_{1} \\right)} + d_{3} \\sin{\\left(\\theta_{1} \\right)} \\sin{\\left(\\theta_{2} \\right)}\\\\0 & \\sin{\\left(\\theta_{2} \\right)} & - \\cos{\\left(\\theta_{2} \\right)} & d_{1} - d_{3} \\cos{\\left(\\theta_{2} \\right)}\\\\0 & 0 & 0 & 1\\end{matrix}\\right]$"
      ],
      "text/plain": [
       "Matrix([\n",
       "[-sin(theta1), cos(theta1)*cos(theta2), sin(theta2)*cos(theta1),  d2*sin(theta1) + d3*sin(theta2)*cos(theta1)],\n",
       "[ cos(theta1), sin(theta1)*cos(theta2), sin(theta1)*sin(theta2), -d2*cos(theta1) + d3*sin(theta1)*sin(theta2)],\n",
       "[           0,             sin(theta2),            -cos(theta2),                          d1 - d3*cos(theta2)],\n",
       "[           0,                       0,                       0,                                            1]])"
      ]
     },
     "execution_count": 36,
     "metadata": {},
     "output_type": "execute_result"
    }
   ],
   "source": [
    "# Construct final transform matrix\n",
    "\n",
    "T0c = T01 * T12 * T2c\n",
    "sp.Matrix(T0c)"
   ]
  },
  {
   "cell_type": "code",
   "execution_count": 37,
   "metadata": {},
   "outputs": [
    {
     "data": {
      "text/latex": [
       "$\\displaystyle \\left[\\begin{matrix}- \\sin{\\left(\\theta_{1} \\right)} & \\cos{\\left(\\theta_{1} \\right)} \\cos{\\left(\\theta_{2} \\right)} & \\sin{\\left(\\theta_{2} \\right)} \\cos{\\left(\\theta_{1} \\right)}\\\\\\cos{\\left(\\theta_{1} \\right)} & \\sin{\\left(\\theta_{1} \\right)} \\cos{\\left(\\theta_{2} \\right)} & \\sin{\\left(\\theta_{1} \\right)} \\sin{\\left(\\theta_{2} \\right)}\\\\0 & \\sin{\\left(\\theta_{2} \\right)} & - \\cos{\\left(\\theta_{2} \\right)}\\end{matrix}\\right]$"
      ],
      "text/plain": [
       "Matrix([\n",
       "[-sin(theta1), cos(theta1)*cos(theta2), sin(theta2)*cos(theta1)],\n",
       "[ cos(theta1), sin(theta1)*cos(theta2), sin(theta1)*sin(theta2)],\n",
       "[           0,             sin(theta2),            -cos(theta2)]])"
      ]
     },
     "execution_count": 37,
     "metadata": {},
     "output_type": "execute_result"
    }
   ],
   "source": [
    "# extract final rotation matrix\n",
    "R0c = T0c[:3,:3]\n",
    "sp.Matrix(R0c)"
   ]
  },
  {
   "cell_type": "code",
   "execution_count": 38,
   "metadata": {},
   "outputs": [
    {
     "data": {
      "text/latex": [
       "$\\displaystyle \\left[\\begin{matrix}d_{2} \\sin{\\left(\\theta_{1} \\right)} + d_{3} \\sin{\\left(\\theta_{2} \\right)} \\cos{\\left(\\theta_{1} \\right)}\\\\- d_{2} \\cos{\\left(\\theta_{1} \\right)} + d_{3} \\sin{\\left(\\theta_{1} \\right)} \\sin{\\left(\\theta_{2} \\right)}\\\\d_{1} - d_{3} \\cos{\\left(\\theta_{2} \\right)}\\end{matrix}\\right]$"
      ],
      "text/plain": [
       "Matrix([\n",
       "[ d2*sin(theta1) + d3*sin(theta2)*cos(theta1)],\n",
       "[-d2*cos(theta1) + d3*sin(theta1)*sin(theta2)],\n",
       "[                         d1 - d3*cos(theta2)]])"
      ]
     },
     "execution_count": 38,
     "metadata": {},
     "output_type": "execute_result"
    }
   ],
   "source": [
    "# extract final translation matrix\n",
    "t0c = T0c[:3, 3]\n",
    "sp.Matrix(t0c)"
   ]
  },
  {
   "cell_type": "markdown",
   "metadata": {},
   "source": [
    "## Solve Inverse Kinematics \n",
    "Determine $ \\theta_1 $ and $ \\theta_2 $ required to achieve the desired position $ t $.\n",
    "\n",
    "### Position Equations:\n",
    "The desired position is given by:\n",
    "\n",
    "$ t = [x_c, y_c, z_c] $\n",
    "\n",
    "where:\n",
    "\n",
    "$ x_c = f(\\theta_1, \\theta_2) $\n",
    "\n",
    "$ y_c = f(\\theta_1, \\theta_2) $\n",
    "\n",
    "$ z_c = f(\\theta_1, \\theta_2) $\n",
    "\n",
    "From these equations, $ \\theta_1 $ and $ \\theta_2 $ can be solved to achieve the desired position.\n"
   ]
  },
  {
   "cell_type": "code",
   "execution_count": null,
   "metadata": {},
   "outputs": [],
   "source": [
    "# Remember:\n",
    "# t0c is the position vector from o to c\n",
    "# so lets extract x, y, and z from that\n",
    "\n",
    "# xc = sp.symbols(r'{}^0x_c')\n",
    "# yc = sp.symbols(r'{}^0y_c')\n",
    "# zc = sp.symbols(r'{}^0z_c')\n",
    "\n",
    "xc = t0c[]"
   ]
  },
  {
   "cell_type": "code",
   "execution_count": null,
   "metadata": {},
   "outputs": [],
   "source": []
  }
 ],
 "metadata": {
  "kernelspec": {
   "display_name": ".venv",
   "language": "python",
   "name": "python3"
  },
  "language_info": {
   "codemirror_mode": {
    "name": "ipython",
    "version": 3
   },
   "file_extension": ".py",
   "mimetype": "text/x-python",
   "name": "python",
   "nbconvert_exporter": "python",
   "pygments_lexer": "ipython3",
   "version": "3.12.8"
  }
 },
 "nbformat": 4,
 "nbformat_minor": 2
}
