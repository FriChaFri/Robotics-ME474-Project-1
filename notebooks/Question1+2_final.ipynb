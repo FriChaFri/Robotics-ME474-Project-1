{
 "cells": [
  {
   "cell_type": "markdown",
   "metadata": {},
   "source": [
    "# Question 1\n",
    "Resolve the position-level forward and inverse kinematics of the Furuta pendulum with the help of the coordinate systems shown as shown in the figure. Once you have the kinematic equations, answer the following questions:\n",
    "\n",
    "(a) If the joint angles $ \\theta $ are given by \n",
    "\n",
    "$$\n",
    "\\theta = \\begin{bmatrix} \\theta_1 \\\\ \\theta_2 \\end{bmatrix} = \\begin{bmatrix} 5\\pi/6 \\\\ -3\\pi/7 \\end{bmatrix}\n",
    "$$\n",
    "\n",
    "measured from zero position, what is the pose of the end-effector, i.e., the frame $\\{C\\}$ with respect to the fixed frame $\\{0\\}$? Provide the orientation using both the rotation matrix and the corresponding quaternion.\n",
    "\n",
    "(b) At the same angles given in part (a), what is the pose of frame $\\{2\\}$ with respect to the fixed frame $\\{0\\}$? Provide the orientation using both the rotation matrix and the corresponding quaternion.\n",
    "\n",
    "(c) Provide the axis-angle representation of the orientation for parts (a) and (b). Use rodrigues’s formula to recover the rotation matrices you found in parts (a) and (b).\n",
    "\n",
    "(d) Suppose a camera is installed at the end-effector of the Furuta pendulum. Let $\\{C\\}$ denote the camera frame, as shown. What is the value of $ \\theta_1 $ and $ \\theta_2 $ if the $ z $-axis of the camera points in the direction $ k $, where\n",
    "\n",
    "$$\n",
    "k = -\\frac{1}{2} x_0 + \\frac{1}{2} y_0 - \\frac{\\sqrt{2}}{2} z_0.\n",
    "$$\n",
    "\n",
    "(e) Repeat part (d) to find the value of $ \\theta_1 $ and $ \\theta_2 $ if the origin of frame $\\{C\\}$ is located at a point $ P $, whose coordinate vector is given in frame $\\{0\\}$ by\n",
    "\n",
    "$$\n",
    "p = 1.075x_0 + 0.303y_0 + 1.022z_0.\n",
    "$$\n"
   ]
  },
  {
   "cell_type": "code",
   "execution_count": 422,
   "metadata": {},
   "outputs": [],
   "source": [
    "import sympy as sp\n",
    "import numpy as np\n",
    "from spatialmath import SO3, SE3\n",
    "from spatialmath.base import r2q, qprint, tr2angvec, skew, vex\n",
    "from scipy.linalg import expm # used only for the matrix exponential part of rodrigues formula"
   ]
  },
  {
   "cell_type": "markdown",
   "metadata": {},
   "source": [
    "## Solve Forward Kinematics\n",
    "Resolve the position-level forward kinematics of the Furuta pendulum with the help of the coordinate systems shown as shown in the figure.\n",
    "\n",
    "Find:<br>\n",
    "$^{0}T_{c} = {}^{0}T_{1} \\, {}^{1}T_{2} \\, {}^{2}T_{c}$"
   ]
  },
  {
   "cell_type": "code",
   "execution_count": 423,
   "metadata": {},
   "outputs": [],
   "source": [
    "d1, d2, d3 = sp.symbols('d1 d2 d3')\n",
    "\n",
    "# Find the position matrixes\n",
    "t01 = sp.Matrix([0,0,d1]) #read as the position of frame 1 in respect to frame 0\n",
    "t12 = sp.Matrix([0,0,d2])\n",
    "t2c = sp.Matrix([0,0,d3])"
   ]
  },
  {
   "cell_type": "code",
   "execution_count": 424,
   "metadata": {},
   "outputs": [
    {
     "data": {
      "text/latex": [
       "$\\displaystyle \\left[\\begin{matrix}\\cos{\\left(\\theta_{1} \\right)} & 0 & \\sin{\\left(\\theta_{1} \\right)}\\\\\\sin{\\left(\\theta_{1} \\right)} & 0 & - \\cos{\\left(\\theta_{1} \\right)}\\\\0 & 1 & 0\\end{matrix}\\right]$"
      ],
      "text/plain": [
       "Matrix([\n",
       "[cos(theta1), 0,  sin(theta1)],\n",
       "[sin(theta1), 0, -cos(theta1)],\n",
       "[          0, 1,            0]])"
      ]
     },
     "execution_count": 424,
     "metadata": {},
     "output_type": "execute_result"
    }
   ],
   "source": [
    "theta1, theta2 = sp.symbols('theta1 theta2')\n",
    "# - Find the Rotation Matrixes\n",
    "# Find R01 (read as the rotation matrix of 1 in respect to 0)\n",
    "\n",
    "Rx90 = SO3.Rx(sp.pi/2) #90 degrees\n",
    "RyTheta1 = SO3.Ry(theta1)\n",
    "R01 = Rx90 * RyTheta1\n",
    "\n",
    "sp.Matrix(R01.A)"
   ]
  },
  {
   "cell_type": "code",
   "execution_count": 425,
   "metadata": {},
   "outputs": [
    {
     "data": {
      "text/latex": [
       "$\\displaystyle \\left[\\begin{matrix}\\cos{\\left(\\theta_{2} \\right)} & 0 & \\sin{\\left(\\theta_{2} \\right)}\\\\\\sin{\\left(\\theta_{2} \\right)} & 0 & - \\cos{\\left(\\theta_{2} \\right)}\\\\0 & 1 & 0\\end{matrix}\\right]$"
      ],
      "text/plain": [
       "Matrix([\n",
       "[cos(theta2), 0,  sin(theta2)],\n",
       "[sin(theta2), 0, -cos(theta2)],\n",
       "[          0, 1,            0]])"
      ]
     },
     "execution_count": 425,
     "metadata": {},
     "output_type": "execute_result"
    }
   ],
   "source": [
    "# Find R12\n",
    "\n",
    "RyTheta2 = SO3.Ry(theta2)\n",
    "R12 = Rx90 * RyTheta2\n",
    "\n",
    "sp.Matrix(R12.A)"
   ]
  },
  {
   "cell_type": "code",
   "execution_count": 426,
   "metadata": {},
   "outputs": [
    {
     "data": {
      "text/latex": [
       "$\\displaystyle \\left[\\begin{matrix}0 & 1 & 0\\\\-1 & 0 & 0\\\\0 & 0 & 1\\end{matrix}\\right]$"
      ],
      "text/plain": [
       "Matrix([\n",
       "[ 0, 1, 0],\n",
       "[-1, 0, 0],\n",
       "[ 0, 0, 1]])"
      ]
     },
     "execution_count": 426,
     "metadata": {},
     "output_type": "execute_result"
    }
   ],
   "source": [
    "# Find R2c\n",
    "\n",
    "Rz270 = SO3.Rz(-sp.pi/2)\n",
    "R2c = Rz270\n",
    "\n",
    "sp.Matrix(R2c.A)"
   ]
  },
  {
   "cell_type": "markdown",
   "metadata": {},
   "source": [
    "Using the position and rotation matrixes, construct coorponding pose."
   ]
  },
  {
   "cell_type": "code",
   "execution_count": 427,
   "metadata": {},
   "outputs": [],
   "source": [
    "def make_pose(R, t): # this function is needed since we are using sympy\n",
    "    \"\"\"\n",
    "    Creates a 4x4 homogeneous transformation matrix T from a rotation matrix R and a translation vector t.\n",
    "    \n",
    "    Parameters:\n",
    "      R : A rotation matrix. This can be an object with a .A attribute (like an SO3 object)\n",
    "          or a standard Sympy Matrix.\n",
    "      t : A 3x1 position vector. It should be a column vector.\n",
    "      \n",
    "    Returns:\n",
    "      T : A 4x4 homogeneous transformation matrix as a Sympy Matrix.\n",
    "    \"\"\"\n",
    "    # Convert the rotation matrix to a standard Sympy Matrix if necessary. \n",
    "    try:\n",
    "        R_mat = sp.Matrix(R.A)\n",
    "    except AttributeError:\n",
    "        R_mat = sp.Matrix(R)\n",
    "    \n",
    "    # Ensure t is a column vector.\n",
    "    t_vec = sp.Matrix(t)\n",
    "    if t_vec.shape[1] != 1:\n",
    "        t_vec = t_vec.T if t_vec.shape[0] == 1 else t_vec\n",
    "    \n",
    "    # Build the transformation matrix by concatenating R and t, and appending the bottom row.\n",
    "    T = sp.Matrix.vstack(\n",
    "        sp.Matrix.hstack(R_mat, t_vec),\n",
    "        sp.Matrix([[0, 0, 0, 1]])\n",
    "    )\n",
    "    return T"
   ]
  },
  {
   "cell_type": "code",
   "execution_count": 428,
   "metadata": {},
   "outputs": [
    {
     "data": {
      "text/latex": [
       "$\\displaystyle \\left[\\begin{matrix}\\cos{\\left(\\theta_{1} \\right)} & 0 & \\sin{\\left(\\theta_{1} \\right)} & 0\\\\\\sin{\\left(\\theta_{1} \\right)} & 0 & - \\cos{\\left(\\theta_{1} \\right)} & 0\\\\0 & 1 & 0 & d_{1}\\\\0 & 0 & 0 & 1\\end{matrix}\\right]$"
      ],
      "text/plain": [
       "Matrix([\n",
       "[cos(theta1), 0,  sin(theta1),  0],\n",
       "[sin(theta1), 0, -cos(theta1),  0],\n",
       "[          0, 1,            0, d1],\n",
       "[          0, 0,            0,  1]])"
      ]
     },
     "execution_count": 428,
     "metadata": {},
     "output_type": "execute_result"
    }
   ],
   "source": [
    "T01 = make_pose(R01, t01)\n",
    "T01"
   ]
  },
  {
   "cell_type": "code",
   "execution_count": 429,
   "metadata": {},
   "outputs": [
    {
     "data": {
      "text/latex": [
       "$\\displaystyle \\left[\\begin{matrix}\\cos{\\left(\\theta_{2} \\right)} & 0 & \\sin{\\left(\\theta_{2} \\right)} & 0\\\\\\sin{\\left(\\theta_{2} \\right)} & 0 & - \\cos{\\left(\\theta_{2} \\right)} & 0\\\\0 & 1 & 0 & d_{2}\\\\0 & 0 & 0 & 1\\end{matrix}\\right]$"
      ],
      "text/plain": [
       "Matrix([\n",
       "[cos(theta2), 0,  sin(theta2),  0],\n",
       "[sin(theta2), 0, -cos(theta2),  0],\n",
       "[          0, 1,            0, d2],\n",
       "[          0, 0,            0,  1]])"
      ]
     },
     "execution_count": 429,
     "metadata": {},
     "output_type": "execute_result"
    }
   ],
   "source": [
    "T12 = make_pose(R12, t12)\n",
    "T12"
   ]
  },
  {
   "cell_type": "code",
   "execution_count": 430,
   "metadata": {},
   "outputs": [
    {
     "data": {
      "text/latex": [
       "$\\displaystyle \\left[\\begin{matrix}0 & 1 & 0 & 0\\\\-1 & 0 & 0 & 0\\\\0 & 0 & 1 & d_{3}\\\\0 & 0 & 0 & 1\\end{matrix}\\right]$"
      ],
      "text/plain": [
       "Matrix([\n",
       "[ 0, 1, 0,  0],\n",
       "[-1, 0, 0,  0],\n",
       "[ 0, 0, 1, d3],\n",
       "[ 0, 0, 0,  1]])"
      ]
     },
     "execution_count": 430,
     "metadata": {},
     "output_type": "execute_result"
    }
   ],
   "source": [
    "T2c = make_pose(R2c, t2c)\n",
    "T2c"
   ]
  },
  {
   "cell_type": "code",
   "execution_count": 431,
   "metadata": {},
   "outputs": [
    {
     "data": {
      "text/latex": [
       "$\\displaystyle \\left[\\begin{matrix}- \\sin{\\left(\\theta_{1} \\right)} & \\cos{\\left(\\theta_{1} \\right)} \\cos{\\left(\\theta_{2} \\right)} & \\sin{\\left(\\theta_{2} \\right)} \\cos{\\left(\\theta_{1} \\right)} & d_{2} \\sin{\\left(\\theta_{1} \\right)} + d_{3} \\sin{\\left(\\theta_{2} \\right)} \\cos{\\left(\\theta_{1} \\right)}\\\\\\cos{\\left(\\theta_{1} \\right)} & \\sin{\\left(\\theta_{1} \\right)} \\cos{\\left(\\theta_{2} \\right)} & \\sin{\\left(\\theta_{1} \\right)} \\sin{\\left(\\theta_{2} \\right)} & - d_{2} \\cos{\\left(\\theta_{1} \\right)} + d_{3} \\sin{\\left(\\theta_{1} \\right)} \\sin{\\left(\\theta_{2} \\right)}\\\\0 & \\sin{\\left(\\theta_{2} \\right)} & - \\cos{\\left(\\theta_{2} \\right)} & d_{1} - d_{3} \\cos{\\left(\\theta_{2} \\right)}\\\\0 & 0 & 0 & 1\\end{matrix}\\right]$"
      ],
      "text/plain": [
       "Matrix([\n",
       "[-sin(theta1), cos(theta1)*cos(theta2), sin(theta2)*cos(theta1),  d2*sin(theta1) + d3*sin(theta2)*cos(theta1)],\n",
       "[ cos(theta1), sin(theta1)*cos(theta2), sin(theta1)*sin(theta2), -d2*cos(theta1) + d3*sin(theta1)*sin(theta2)],\n",
       "[           0,             sin(theta2),            -cos(theta2),                          d1 - d3*cos(theta2)],\n",
       "[           0,                       0,                       0,                                            1]])"
      ]
     },
     "execution_count": 431,
     "metadata": {},
     "output_type": "execute_result"
    }
   ],
   "source": [
    "# Construct final pose\n",
    "\n",
    "T0c = T01 * T12 * T2c\n",
    "T0c"
   ]
  },
  {
   "cell_type": "code",
   "execution_count": 432,
   "metadata": {},
   "outputs": [
    {
     "data": {
      "text/latex": [
       "$\\displaystyle \\left[\\begin{matrix}- \\sin{\\left(\\theta_{1} \\right)} & \\cos{\\left(\\theta_{1} \\right)} \\cos{\\left(\\theta_{2} \\right)} & \\sin{\\left(\\theta_{2} \\right)} \\cos{\\left(\\theta_{1} \\right)}\\\\\\cos{\\left(\\theta_{1} \\right)} & \\sin{\\left(\\theta_{1} \\right)} \\cos{\\left(\\theta_{2} \\right)} & \\sin{\\left(\\theta_{1} \\right)} \\sin{\\left(\\theta_{2} \\right)}\\\\0 & \\sin{\\left(\\theta_{2} \\right)} & - \\cos{\\left(\\theta_{2} \\right)}\\end{matrix}\\right]$"
      ],
      "text/plain": [
       "Matrix([\n",
       "[-sin(theta1), cos(theta1)*cos(theta2), sin(theta2)*cos(theta1)],\n",
       "[ cos(theta1), sin(theta1)*cos(theta2), sin(theta1)*sin(theta2)],\n",
       "[           0,             sin(theta2),            -cos(theta2)]])"
      ]
     },
     "execution_count": 432,
     "metadata": {},
     "output_type": "execute_result"
    }
   ],
   "source": [
    "# extract final rotation matrix\n",
    "R0c = T0c[:3,:3]\n",
    "R0c"
   ]
  },
  {
   "cell_type": "code",
   "execution_count": 433,
   "metadata": {},
   "outputs": [
    {
     "data": {
      "text/latex": [
       "$\\displaystyle \\left[\\begin{matrix}d_{2} \\sin{\\left(\\theta_{1} \\right)} + d_{3} \\sin{\\left(\\theta_{2} \\right)} \\cos{\\left(\\theta_{1} \\right)}\\\\- d_{2} \\cos{\\left(\\theta_{1} \\right)} + d_{3} \\sin{\\left(\\theta_{1} \\right)} \\sin{\\left(\\theta_{2} \\right)}\\\\d_{1} - d_{3} \\cos{\\left(\\theta_{2} \\right)}\\end{matrix}\\right]$"
      ],
      "text/plain": [
       "Matrix([\n",
       "[ d2*sin(theta1) + d3*sin(theta2)*cos(theta1)],\n",
       "[-d2*cos(theta1) + d3*sin(theta1)*sin(theta2)],\n",
       "[                         d1 - d3*cos(theta2)]])"
      ]
     },
     "execution_count": 433,
     "metadata": {},
     "output_type": "execute_result"
    }
   ],
   "source": [
    "# extract final position matrix\n",
    "t0c = T0c[:3, 3]\n",
    "t0c"
   ]
  },
  {
   "cell_type": "markdown",
   "metadata": {},
   "source": [
    "## Solve Inverse Kinematics for Position\n",
    "\n",
    "Resolve the position-level *inverse kinematics* of the Furuta pendulum with the help of the coordinate systems shown as shown in the figure. \n",
    "\n",
    "Determine $ \\theta_1 $ and $ \\theta_2 $ required to achieve the desired position $ t $.\n",
    "\n",
    "### Position Equations:\n",
    "The desired position is given by:\n",
    "\n",
    "$ {}^0t_c = [{}^0x_c, {}^0y_c, {}^0z_c] $\n",
    "\n",
    "where:\n",
    "\n",
    "$ {}^0x_c = f(\\theta_1, \\theta_2) $\n",
    "\n",
    "$ {}^0y_c = f(\\theta_1, \\theta_2) $\n",
    "\n",
    "$ {}^0z_c = f(\\theta_1, \\theta_2) $\n",
    "\n",
    "From these equations, $ \\theta_1 $ and $ \\theta_2 $ can be solved to achieve the desired position.\n"
   ]
  },
  {
   "cell_type": "code",
   "execution_count": 434,
   "metadata": {},
   "outputs": [
    {
     "data": {
      "text/latex": [
       "$\\displaystyle {}^0x_c = d_{2} \\sin{\\left(\\theta_{1} \\right)} + d_{3} \\sin{\\left(\\theta_{2} \\right)} \\cos{\\left(\\theta_{1} \\right)}$"
      ],
      "text/plain": [
       "Eq({}^0x_c, d2*sin(theta1) + d3*sin(theta2)*cos(theta1))"
      ]
     },
     "execution_count": 434,
     "metadata": {},
     "output_type": "execute_result"
    }
   ],
   "source": [
    "xc = sp.symbols(r'{}^0x_c')\n",
    "yc = sp.symbols(r'{}^0y_c')\n",
    "zc = sp.symbols(r'{}^0z_c')\n",
    "\n",
    "# Relate t0c with xc, yc, and zc\n",
    "eq1 = sp.Eq(xc, t0c[0]) #toc[0] extracts the x component of the position of frame c in respect to frame 0\n",
    "eq1"
   ]
  },
  {
   "cell_type": "code",
   "execution_count": 435,
   "metadata": {},
   "outputs": [
    {
     "data": {
      "text/latex": [
       "$\\displaystyle {}^0y_c = - d_{2} \\cos{\\left(\\theta_{1} \\right)} + d_{3} \\sin{\\left(\\theta_{1} \\right)} \\sin{\\left(\\theta_{2} \\right)}$"
      ],
      "text/plain": [
       "Eq({}^0y_c, -d2*cos(theta1) + d3*sin(theta1)*sin(theta2))"
      ]
     },
     "execution_count": 435,
     "metadata": {},
     "output_type": "execute_result"
    }
   ],
   "source": [
    "eq2 = sp.Eq(yc, t0c[1])\n",
    "eq2"
   ]
  },
  {
   "cell_type": "code",
   "execution_count": 436,
   "metadata": {},
   "outputs": [
    {
     "data": {
      "text/latex": [
       "$\\displaystyle {}^0z_c = d_{1} - d_{3} \\cos{\\left(\\theta_{2} \\right)}$"
      ],
      "text/plain": [
       "Eq({}^0z_c, d1 - d3*cos(theta2))"
      ]
     },
     "execution_count": 436,
     "metadata": {},
     "output_type": "execute_result"
    }
   ],
   "source": [
    "eq3 = sp.Eq(zc, t0c[2])\n",
    "eq3"
   ]
  },
  {
   "cell_type": "code",
   "execution_count": 437,
   "metadata": {},
   "outputs": [
    {
     "data": {
      "text/plain": [
       "[(-2*atan((d3*sqrt((-d1 + d3 + {}^0z_c)*(d1 + d3 - {}^0z_c)/d3**2) - sqrt(-d1**2 + 2*d1*{}^0z_c + d2**2 + d3**2 - {}^0y_c**2 - {}^0z_c**2))/(d2 - {}^0y_c)),\n",
       "  acos((d1 - {}^0z_c)/d3)),\n",
       " (2*atan((d3*sqrt((-d1 + d3 + {}^0z_c)*(d1 + d3 - {}^0z_c)/d3**2) - sqrt(-d1**2 + 2*d1*{}^0z_c + d2**2 + d3**2 - {}^0y_c**2 - {}^0z_c**2))/(d2 - {}^0y_c)),\n",
       "  -acos((d1 - {}^0z_c)/d3) + 2*pi),\n",
       " (-2*atan((d3*sqrt((-d1 + d3 + {}^0z_c)*(d1 + d3 - {}^0z_c)/d3**2) + sqrt(-d1**2 + 2*d1*{}^0z_c + d2**2 + d3**2 - {}^0y_c**2 - {}^0z_c**2))/(d2 - {}^0y_c)),\n",
       "  acos((d1 - {}^0z_c)/d3)),\n",
       " (2*atan((d3*sqrt((-d1 + d3 + {}^0z_c)*(d1 + d3 - {}^0z_c)/d3**2) + sqrt(-d1**2 + 2*d1*{}^0z_c + d2**2 + d3**2 - {}^0y_c**2 - {}^0z_c**2))/(d2 - {}^0y_c)),\n",
       "  -acos((d1 - {}^0z_c)/d3) + 2*pi)]"
      ]
     },
     "execution_count": 437,
     "metadata": {},
     "output_type": "execute_result"
    }
   ],
   "source": [
    "# Now solve\n",
    "solutions_for_theta = sp.solve([eq1, eq2, eq3], (theta1, theta2), check=False)\n",
    "# List of 4 possible (theta1, theta2) solutions (see nicely formatted version just below)\n",
    "solutions_for_theta\n"
   ]
  },
  {
   "cell_type": "code",
   "execution_count": 438,
   "metadata": {},
   "outputs": [],
   "source": [
    "# # Prints nicely formatted Markdown and LaTaX format of all the solutions for copy and pasting\n",
    "# sol_num = 1\n",
    "# print(\"### Inverse Kinematics Solutions\")\n",
    "# print(\"___\")\n",
    "# for a in solutions:\n",
    "#     print()\n",
    "#     print(\"Solution %d:\\n\" % sol_num)\n",
    "#     print(\"$\", end=\" \\\\theta_1 = \")\n",
    "#     print(sp.latex(a[0]), end=\" $\")\n",
    "#     print()\n",
    "#     print()\n",
    "#     print(\"$\", end=\" \\\\theta_2 = \")\n",
    "#     print(sp.latex(a[1]), end=\" $\")\n",
    "#     print()\n",
    "#     print(\"___\")\n",
    "#     sol_num += 1"
   ]
  },
  {
   "cell_type": "markdown",
   "metadata": {},
   "source": [
    "### Inverse Kinematics Solutions for a given position\n",
    "___\n",
    "\n",
    "Solution 1:\n",
    "\n",
    "$ \\theta_1 = - 2 \\operatorname{atan}{\\left(\\frac{d_{3} \\sqrt{\\frac{\\left(- d_{1} + d_{3} + {}^0z_c\\right) \\left(d_{1} + d_{3} - {}^0z_c\\right)}{d_{3}^{2}}} - \\sqrt{- d_{1}^{2} + 2 d_{1} {}^0z_c + d_{2}^{2} + d_{3}^{2} - \\left({}^0y_c\\right)^{2} - \\left({}^0z_c\\right)^{2}}}{d_{2} - {}^0y_c} \\right)} $\n",
    "\n",
    "$ \\theta_2 = \\operatorname{acos}{\\left(\\frac{d_{1} - {}^0z_c}{d_{3}} \\right)} $\n",
    "___\n",
    "\n",
    "Solution 2:\n",
    "\n",
    "$ \\theta_1 = 2 \\operatorname{atan}{\\left(\\frac{d_{3} \\sqrt{\\frac{\\left(- d_{1} + d_{3} + {}^0z_c\\right) \\left(d_{1} + d_{3} - {}^0z_c\\right)}{d_{3}^{2}}} - \\sqrt{- d_{1}^{2} + 2 d_{1} {}^0z_c + d_{2}^{2} + d_{3}^{2} - \\left({}^0y_c\\right)^{2} - \\left({}^0z_c\\right)^{2}}}{d_{2} - {}^0y_c} \\right)} $\n",
    "\n",
    "$ \\theta_2 = - \\operatorname{acos}{\\left(\\frac{d_{1} - {}^0z_c}{d_{3}} \\right)} + 2 \\pi $\n",
    "___\n",
    "\n",
    "Solution 3:\n",
    "\n",
    "$ \\theta_1 = - 2 \\operatorname{atan}{\\left(\\frac{d_{3} \\sqrt{\\frac{\\left(- d_{1} + d_{3} + {}^0z_c\\right) \\left(d_{1} + d_{3} - {}^0z_c\\right)}{d_{3}^{2}}} + \\sqrt{- d_{1}^{2} + 2 d_{1} {}^0z_c + d_{2}^{2} + d_{3}^{2} - \\left({}^0y_c\\right)^{2} - \\left({}^0z_c\\right)^{2}}}{d_{2} - {}^0y_c} \\right)} $\n",
    "\n",
    "$ \\theta_2 = \\operatorname{acos}{\\left(\\frac{d_{1} - {}^0z_c}{d_{3}} \\right)} $\n",
    "___\n",
    "\n",
    "Solution 4:\n",
    "...\n",
    "$ \\theta_1 = 2 \\operatorname{atan}{\\left(\\frac{d_{3} \\sqrt{\\frac{\\left(- d_{1} + d_{3} + {}^0z_c\\right) \\left(d_{1} + d_{3} - {}^0z_c\\right)}{d_{3}^{2}}} + \\sqrt{- d_{1}^{2} + 2 d_{1} {}^0z_c + d_{2}^{2} + d_{3}^{2} - \\left({}^0y_c\\right)^{2} - \\left({}^0z_c\\right)^{2}}}{d_{2} - {}^0y_c} \\right)} $\n",
    "\n",
    "$ \\theta_2 = - \\operatorname{acos}{\\left(\\frac{d_{1} - {}^0z_c}{d_{3}} \\right)} + 2 \\pi $\n",
    "___"
   ]
  },
  {
   "cell_type": "markdown",
   "metadata": {},
   "source": [
    "## Part A\n",
    "\n",
    "(a) If the joint angles $ \\theta $ are given by \n",
    "\n",
    "$$\n",
    "\\theta = \\begin{bmatrix} \\theta_1 \\\\ \\theta_2 \\end{bmatrix} = \\begin{bmatrix} \\pi/3 \\\\ -3\\pi/7 \\end{bmatrix}\n",
    "$$\n",
    "\n",
    "from home position, what is the pose of the end-effector, i.e., the frame $\\{C\\}$ with respect to the fixed frame $\\{0\\}$,  ${}^0T_c$? Provide the orientation using both the rotation matrix and the corresponding quaternion."
   ]
  },
  {
   "cell_type": "code",
   "execution_count": 439,
   "metadata": {},
   "outputs": [
    {
     "name": "stdout",
     "output_type": "stream",
     "text": [
      "The pose of frame c in respect to frame 0:\n"
     ]
    },
    {
     "data": {
      "text/latex": [
       "$\\displaystyle \\left[\\begin{matrix}-0.5 & -0.192708781680008 & 0.844312338807984 & 1.07544987104639\\\\-0.866025403784439 & 0.111260466978157 & -0.487463956090912 & 0.302849158154821\\\\0 & -0.974927912181824 & -0.222520933956314 & 1.02198325283495\\\\0 & 0 & 0 & 1.0\\end{matrix}\\right]$"
      ],
      "text/plain": [
       "Matrix([\n",
       "[              -0.5, -0.192708781680008,  0.844312338807984,  1.07544987104639],\n",
       "[-0.866025403784439,  0.111260466978157, -0.487463956090912, 0.302849158154821],\n",
       "[                 0, -0.974927912181824, -0.222520933956314,  1.02198325283495],\n",
       "[                 0,                  0,                  0,               1.0]])"
      ]
     },
     "execution_count": 439,
     "metadata": {},
     "output_type": "execute_result"
    }
   ],
   "source": [
    "# With the given angles, the pose is now:\n",
    "subsForA = {d1: 1.2, d2: 0.8, d3: 0.8, theta1: 5 * sp.pi /6, theta2: -3 * sp.pi / 7}\n",
    "T0c_partA = T0c.subs(subsForA)\n",
    "print(\"The pose of frame c in respect to frame 0:\")\n",
    "(T0c_partA.evalf())"
   ]
  },
  {
   "cell_type": "code",
   "execution_count": 440,
   "metadata": {},
   "outputs": [
    {
     "name": "stdout",
     "output_type": "stream",
     "text": [
      "The rotation matrix: \n"
     ]
    },
    {
     "data": {
      "text/latex": [
       "$\\displaystyle \\left[\\begin{matrix}- \\frac{1}{2} & - \\frac{\\sqrt{3} \\cos{\\left(\\frac{3 \\pi}{7} \\right)}}{2} & \\frac{\\sqrt{3} \\sin{\\left(\\frac{3 \\pi}{7} \\right)}}{2}\\\\- \\frac{\\sqrt{3}}{2} & \\frac{\\cos{\\left(\\frac{3 \\pi}{7} \\right)}}{2} & - \\frac{\\sin{\\left(\\frac{3 \\pi}{7} \\right)}}{2}\\\\0 & - \\sin{\\left(\\frac{3 \\pi}{7} \\right)} & - \\cos{\\left(\\frac{3 \\pi}{7} \\right)}\\end{matrix}\\right]$"
      ],
      "text/plain": [
       "Matrix([\n",
       "[      -1/2, -sqrt(3)*cos(3*pi/7)/2, sqrt(3)*sin(3*pi/7)/2],\n",
       "[-sqrt(3)/2,          cos(3*pi/7)/2,        -sin(3*pi/7)/2],\n",
       "[         0,           -sin(3*pi/7),          -cos(3*pi/7)]])"
      ]
     },
     "execution_count": 440,
     "metadata": {},
     "output_type": "execute_result"
    }
   ],
   "source": [
    "# Extract the rotation matrix\n",
    "R0c_partA = T0c_partA[:3,:3]\n",
    "print(\"The rotation matrix: \")\n",
    "\n",
    "R0c_partA\n"
   ]
  },
  {
   "cell_type": "code",
   "execution_count": 441,
   "metadata": {},
   "outputs": [
    {
     "name": "stdout",
     "output_type": "stream",
     "text": [
      "The quaternian representation of the roatation:\n",
      "\n",
      " 0.3117 < -0.3909,  0.6771, -0.5400 >\n"
     ]
    }
   ],
   "source": [
    "# Quaternion representation of the Rotation matrix\n",
    "R0c_partA = np.array(R0c_partA, dtype=float) #convert R to a np array\n",
    "q_parta = r2q(R0c_partA)\n",
    "print(\"The quaternian representation of the roatation:\\n\")\n",
    "\n",
    "qprint(q_parta)\n"
   ]
  },
  {
   "cell_type": "markdown",
   "metadata": {},
   "source": [
    "## Part B\n",
    "(b) At the same angles given in part (a), what is the pose of frame $\\{2\\}$ with respect to the fixed frame $\\{0\\}$? Provide the orientation using both the rotation matrix and the corresponding quaternion.\n"
   ]
  },
  {
   "cell_type": "code",
   "execution_count": 442,
   "metadata": {},
   "outputs": [
    {
     "name": "stdout",
     "output_type": "stream",
     "text": [
      "The pose of frame 2 in respect to frame 0:\n"
     ]
    },
    {
     "data": {
      "text/latex": [
       "$\\displaystyle \\left[\\begin{matrix}-0.192708781680008 & 0.5 & 0.844312338807984 & 0.4\\\\0.111260466978157 & 0.866025403784439 & -0.487463956090912 & 0.692820323027551\\\\-0.974927912181824 & 0 & -0.222520933956314 & 1.2\\\\0 & 0 & 0 & 1.0\\end{matrix}\\right]$"
      ],
      "text/plain": [
       "Matrix([\n",
       "[-0.192708781680008,               0.5,  0.844312338807984,               0.4],\n",
       "[ 0.111260466978157, 0.866025403784439, -0.487463956090912, 0.692820323027551],\n",
       "[-0.974927912181824,                 0, -0.222520933956314,               1.2],\n",
       "[                 0,                 0,                  0,               1.0]])"
      ]
     },
     "execution_count": 442,
     "metadata": {},
     "output_type": "execute_result"
    }
   ],
   "source": [
    "# the pose is\n",
    "T02 = T01 * T12\n",
    "T02_partb = T02.subs(subsForA)\n",
    "print(\"The pose of frame 2 in respect to frame 0:\")\n",
    "T02_partb.evalf()"
   ]
  },
  {
   "cell_type": "code",
   "execution_count": 443,
   "metadata": {},
   "outputs": [
    {
     "name": "stdout",
     "output_type": "stream",
     "text": [
      "The rotation matrix:\n"
     ]
    },
    {
     "data": {
      "text/latex": [
       "$\\displaystyle \\left[\\begin{matrix}-0.192708781680008 & 0.5 & 0.844312338807984\\\\0.111260466978157 & 0.866025403784439 & -0.487463956090912\\\\-0.974927912181824 & 0 & -0.222520933956314\\end{matrix}\\right]$"
      ],
      "text/plain": [
       "Matrix([\n",
       "[-0.192708781680008,               0.5,  0.844312338807984],\n",
       "[ 0.111260466978157, 0.866025403784439, -0.487463956090912],\n",
       "[-0.974927912181824,                 0, -0.222520933956314]])"
      ]
     },
     "execution_count": 443,
     "metadata": {},
     "output_type": "execute_result"
    }
   ],
   "source": [
    "# so the rotation matrix is\n",
    "R02_partb = T02_partb[:3,:3]\n",
    "print(\"The rotation matrix:\")\n",
    "\n",
    "R02_partb.evalf()\n"
   ]
  },
  {
   "cell_type": "code",
   "execution_count": 444,
   "metadata": {},
   "outputs": [
    {
     "name": "stdout",
     "output_type": "stream",
     "text": [
      "The quaternion representation of the rotation:\n",
      "\n",
      " 0.6022 <  0.2024,  0.7552, -0.1614 >\n"
     ]
    }
   ],
   "source": [
    "#and the quaternian representation of the rotation matrix is\n",
    "R02_partb = np.array(R02_partb, dtype=float) #convert R to a np array\n",
    "q_partb = r2q(R02_partb)\n",
    "print(\"The quaternion representation of the rotation:\\n\")\n",
    "qprint(q_partb)\n"
   ]
  },
  {
   "cell_type": "markdown",
   "metadata": {},
   "source": [
    "## Part C\n",
    "(c) Provide the axis-angle representation of the orientation for parts (a) and (b). Use Rodrigues’s formula to recover the rotation matrices you found in parts (a) and (b).\n"
   ]
  },
  {
   "cell_type": "code",
   "execution_count": 445,
   "metadata": {},
   "outputs": [
    {
     "name": "stdout",
     "output_type": "stream",
     "text": [
      "The angle axis representation of frame c in respect to frame 0:\n",
      "\n",
      "\tAngle: 2.508 rad\n",
      "\t    or 143.671 degrees\n",
      "\t Axis: [-0.41141843  0.71259763 -0.56827765]\n"
     ]
    }
   ],
   "source": [
    "# Convert the rotation matrix to its axis angle representation\n",
    "ang0c, axis0c = tr2angvec(R0c_partA, unit='rad')\n",
    "\n",
    "print(\"The angle axis representation of frame c in respect to frame 0:\\n\")\n",
    "print(\"\\tAngle: %.3f rad\" % (ang0c))\n",
    "print(\"\\t    or %.3f degrees\" % np.rad2deg(ang0c))\n",
    "print(\"\\t Axis: \" + str(axis0c))"
   ]
  },
  {
   "cell_type": "code",
   "execution_count": 446,
   "metadata": {},
   "outputs": [
    {
     "name": "stdout",
     "output_type": "stream",
     "text": [
      "The angle axis representation of frame 2 in respect to frame 0:\n",
      "\n",
      "\tAngle: 1.849 rad\n",
      "\t    or 105.938 degrees\n",
      "\t Axis: [ 0.25347612  0.94598578 -0.20214046]\n"
     ]
    }
   ],
   "source": [
    "ang02, axis02 = tr2angvec(R02_partb, unit='rad')\n",
    "\n",
    "print(\"The angle axis representation of frame 2 in respect to frame 0:\\n\")\n",
    "print(\"\\tAngle: %.3f rad\" % (ang02))\n",
    "print(\"\\t    or %.3f degrees\" % np.rad2deg(ang02))\n",
    "\n",
    "print(\"\\t Axis: \" + str(axis02))"
   ]
  },
  {
   "cell_type": "markdown",
   "metadata": {},
   "source": [
    "The equation represents the matrix exponential of a skew-symmetric matrix, which is used in 3D rotation transformations based on the axis-angle representation.\n",
    "\n",
    "$ R = e^{\\widehat{\\omega} \\theta} = \\mathbf{I} + \\sin(\\theta) \\widehat{\\omega} + (1 - \\cos(\\theta)) \\widehat{\\omega}^2 $\n",
    "\n",
    "Where:\n",
    "- $\\omega$ is the **axis of rotation**, a unit vector that defines the direction of rotation.\n",
    "- $\\theta$ is the **scalar part of the axis-angle rotation**, representing the rotation magnitude in radians.\n",
    "- $\\widehat{\\omega}$ is the **skew-symmetric matrix** of $\\omega$, used to compute the rotation matrix.\n",
    "- $\\mathbf{I}$ is the **identity matrix**.\n"
   ]
  },
  {
   "cell_type": "code",
   "execution_count": 447,
   "metadata": {},
   "outputs": [
    {
     "name": "stdout",
     "output_type": "stream",
     "text": [
      "Recovered rotation matrix using matrix exponential: \n",
      "(frame c in respect to frame 0) \n"
     ]
    },
    {
     "data": {
      "text/latex": [
       "$\\displaystyle \\left[\\begin{matrix}-0.5 & -0.193 & 0.844\\\\-0.866 & 0.111 & -0.487\\\\0.0 & -0.975 & -0.223\\end{matrix}\\right]$"
      ],
      "text/plain": [
       "Matrix([\n",
       "[  -0.5, -0.193,  0.844],\n",
       "[-0.866,  0.111, -0.487],\n",
       "[   0.0, -0.975, -0.223]])"
      ]
     },
     "execution_count": 447,
     "metadata": {},
     "output_type": "execute_result"
    }
   ],
   "source": [
    "# this solves rodrigues formula with matrix exponential for C in frame 0\n",
    "R0c_parta_matrixExponential = expm(skew(axis0c) * ang0c)\n",
    "\n",
    "print(\"Recovered rotation matrix using matrix exponential: \\n(frame c in respect to frame 0) \")\n",
    "sp.Matrix(R0c_parta_matrixExponential.round(3)) # sympy for nice printing\n"
   ]
  },
  {
   "cell_type": "code",
   "execution_count": 448,
   "metadata": {},
   "outputs": [
    {
     "name": "stdout",
     "output_type": "stream",
     "text": [
      "Recovered rotation matrix using Rodrigues' formula: \n",
      "(frame c in respect to frame 0) \n"
     ]
    },
    {
     "data": {
      "text/latex": [
       "$\\displaystyle \\left[\\begin{matrix}-0.5 & -0.193 & 0.844\\\\-0.866 & 0.111 & -0.487\\\\0.0 & -0.975 & -0.223\\end{matrix}\\right]$"
      ],
      "text/plain": [
       "Matrix([\n",
       "[  -0.5, -0.193,  0.844],\n",
       "[-0.866,  0.111, -0.487],\n",
       "[   0.0, -0.975, -0.223]])"
      ]
     },
     "execution_count": 448,
     "metadata": {},
     "output_type": "execute_result"
    }
   ],
   "source": [
    "# this solves it using rodrigues formula for C in 0\n",
    "R0c_parta_rodrigues = SO3() + np.sin(ang0c) * skew(axis0c) + (1 - np.cos(ang0c)) * (np.dot(skew(axis0c), skew(axis0c)))\n",
    "\n",
    "print(\"Recovered rotation matrix using Rodrigues' formula: \\n(frame c in respect to frame 0) \")\n",
    "sp.Matrix(R0c_parta_rodrigues.round(3)) # sympy for nice printing"
   ]
  },
  {
   "cell_type": "code",
   "execution_count": 449,
   "metadata": {},
   "outputs": [
    {
     "name": "stdout",
     "output_type": "stream",
     "text": [
      "As can be seen, Rodrigues' formula correctly recovered the rotation matrix from the angle axis representation.\n",
      "\n",
      "The original rotation matrix: \n",
      "(frame c in respect to frame 0) \n"
     ]
    },
    {
     "data": {
      "text/latex": [
       "$\\displaystyle \\left[\\begin{matrix}-0.5 & -0.193 & 0.844\\\\-0.866 & 0.111 & -0.487\\\\0.0 & -0.975 & -0.223\\end{matrix}\\right]$"
      ],
      "text/plain": [
       "Matrix([\n",
       "[  -0.5, -0.193,  0.844],\n",
       "[-0.866,  0.111, -0.487],\n",
       "[   0.0, -0.975, -0.223]])"
      ]
     },
     "execution_count": 449,
     "metadata": {},
     "output_type": "execute_result"
    }
   ],
   "source": [
    "# This is our original R0c matrix for comparing\n",
    "print(\"As can be seen, Rodrigues' formula correctly recovered the rotation matrix from the angle axis representation.\\n\")\n",
    "\n",
    "print(\"The original rotation matrix: \\n(frame c in respect to frame 0) \")\n",
    "sp.Matrix(R0c_partA.round(3))\n"
   ]
  },
  {
   "cell_type": "code",
   "execution_count": 450,
   "metadata": {},
   "outputs": [
    {
     "name": "stdout",
     "output_type": "stream",
     "text": [
      "Recovered rotation matrix using matrix exponential: \n",
      "(frame 2 in respect to frame 0) \n"
     ]
    },
    {
     "data": {
      "text/latex": [
       "$\\displaystyle \\left[\\begin{matrix}-0.193 & 0.5 & 0.844\\\\0.111 & 0.866 & -0.487\\\\-0.975 & 0.0 & -0.223\\end{matrix}\\right]$"
      ],
      "text/plain": [
       "Matrix([\n",
       "[-0.193,   0.5,  0.844],\n",
       "[ 0.111, 0.866, -0.487],\n",
       "[-0.975,   0.0, -0.223]])"
      ]
     },
     "execution_count": 450,
     "metadata": {},
     "output_type": "execute_result"
    }
   ],
   "source": [
    "#this solves it with matrix exponential for 2 in 0\n",
    "R02_parta_matrixExponential = expm(skew(axis02) * ang02)\n",
    "\n",
    "print(\"Recovered rotation matrix using matrix exponential: \\n(frame 2 in respect to frame 0) \")\n",
    "sp.Matrix(R02_parta_matrixExponential.round(3)) # sympy for nice printing"
   ]
  },
  {
   "cell_type": "code",
   "execution_count": 451,
   "metadata": {},
   "outputs": [
    {
     "name": "stdout",
     "output_type": "stream",
     "text": [
      "Recovered rotation matrix using Rodrigues' formula: \n",
      "(frame 2 in respect to frame 0) \n"
     ]
    },
    {
     "data": {
      "text/latex": [
       "$\\displaystyle \\left[\\begin{matrix}-0.193 & 0.5 & 0.844\\\\0.111 & 0.866 & -0.487\\\\-0.975 & 0.0 & -0.223\\end{matrix}\\right]$"
      ],
      "text/plain": [
       "Matrix([\n",
       "[-0.193,   0.5,  0.844],\n",
       "[ 0.111, 0.866, -0.487],\n",
       "[-0.975,   0.0, -0.223]])"
      ]
     },
     "execution_count": 451,
     "metadata": {},
     "output_type": "execute_result"
    }
   ],
   "source": [
    "# this solves it using rodrigues formula for 2 in 0\n",
    "R02_parta_rodrigues = SO3() + np.sin(ang02) * skew(axis02) + (1 - np.cos(ang02)) * (np.dot(skew(axis02), skew(axis02)))\n",
    "\n",
    "print(\"Recovered rotation matrix using Rodrigues' formula: \\n(frame 2 in respect to frame 0) \")\n",
    "sp.Matrix(R02_parta_rodrigues.round(3)) # sympy for nice printing"
   ]
  },
  {
   "cell_type": "code",
   "execution_count": 452,
   "metadata": {},
   "outputs": [
    {
     "name": "stdout",
     "output_type": "stream",
     "text": [
      "As can be seen, Rodrigues' formula correctly recovered the rotation matrix from the angle axis representation.\n",
      "\n",
      "The original rotation matrix: \n",
      "(frame 2 in respect to frame 0) \n"
     ]
    },
    {
     "data": {
      "text/latex": [
       "$\\displaystyle \\left[\\begin{matrix}-0.193 & 0.5 & 0.844\\\\0.111 & 0.866 & -0.487\\\\-0.975 & 0.0 & -0.223\\end{matrix}\\right]$"
      ],
      "text/plain": [
       "Matrix([\n",
       "[-0.193,   0.5,  0.844],\n",
       "[ 0.111, 0.866, -0.487],\n",
       "[-0.975,   0.0, -0.223]])"
      ]
     },
     "execution_count": 452,
     "metadata": {},
     "output_type": "execute_result"
    }
   ],
   "source": [
    "# This is our original R0c matrix for comparing\n",
    "print(\"As can be seen, Rodrigues' formula correctly recovered the rotation matrix from the angle axis representation.\\n\")\n",
    "\n",
    "print(\"The original rotation matrix: \\n(frame 2 in respect to frame 0) \")\n",
    "sp.Matrix(R02_partb.round(3))\n"
   ]
  },
  {
   "cell_type": "markdown",
   "metadata": {},
   "source": [
    "## Part D\n",
    "\n",
    "(d) Suppose a camera is installed at the end-effector of the Furuta pendulum. Let $\\{C\\}$ denote the camera frame, as shown. What is the value of $ \\theta_1 $ and $ \\theta_2 $ if the $ z $-axis of the camera points in the direction $ k $, where\n",
    "\n",
    "$$\n",
    "k = -\\frac{1}{2} x_0 + \\frac{1}{2} y_0 - \\frac{\\sqrt{2}}{2} z_0.\n",
    "$$\n",
    "\n",
    "We need to find the solutions for $\\theta_1$ and $\\theta_2$ in this equation:\n",
    "\n",
    "$$\n",
    "\\begin{bmatrix} \n",
    "\\ {}^0z_{c,1} \\\\ \n",
    "\\ {}^0z_{c,2} \\\\ \n",
    "\\ {}^0z_{c,3} \n",
    "\\end{bmatrix} \n",
    "=\n",
    "\\begin{bmatrix} \n",
    "k_1 \\\\ \n",
    "k_2 \\\\ \n",
    "k_3 \n",
    "\\end{bmatrix}\n",
    "\n",
    "\n",
    "\\\\\n",
    "or\n",
    "\\\\\n",
    "\n",
    "\n",
    "\\begin{bmatrix} \n",
    "\\sin{\\left(\\theta_{2} \\right)} \\cos{\\left(\\theta_{1} \\right)} \\\\ \n",
    "\\sin{\\left(\\theta_{1} \\right)} \\sin{\\left(\\theta_{2} \\right)} \\\\ \n",
    "- \\cos{\\left(\\theta_{2} \\right)} \n",
    "\\end{bmatrix} \n",
    "=\n",
    "\\begin{bmatrix} \n",
    "-0.5 \\\\ \n",
    "0.5 \\\\ \n",
    "- \\frac{\\sqrt{2}}{2} \n",
    "\\end{bmatrix}\n",
    "$$\n"
   ]
  },
  {
   "cell_type": "code",
   "execution_count": 453,
   "metadata": {},
   "outputs": [
    {
     "name": "stdout",
     "output_type": "stream",
     "text": [
      "k is the same thing as the z part of the rotation matrix: \n"
     ]
    },
    {
     "data": {
      "text/latex": [
       "$\\displaystyle \\left[\\begin{matrix}\\sin{\\left(\\theta_{2} \\right)} \\cos{\\left(\\theta_{1} \\right)}\\\\\\sin{\\left(\\theta_{1} \\right)} \\sin{\\left(\\theta_{2} \\right)}\\\\- \\cos{\\left(\\theta_{2} \\right)}\\end{matrix}\\right]$"
      ],
      "text/plain": [
       "Matrix([\n",
       "[sin(theta2)*cos(theta1)],\n",
       "[sin(theta1)*sin(theta2)],\n",
       "[           -cos(theta2)]])"
      ]
     },
     "execution_count": 453,
     "metadata": {},
     "output_type": "execute_result"
    }
   ],
   "source": [
    "# Our understanding of this question is that k is the same thing as the z axis part of R0c\n",
    "# or in other words\n",
    "print(\"k is the same thing as the z part of the rotation matrix: \")\n",
    "R0c[:,2] # the z part of the rotation matrix"
   ]
  },
  {
   "cell_type": "code",
   "execution_count": 454,
   "metadata": {},
   "outputs": [
    {
     "name": "stdout",
     "output_type": "stream",
     "text": [
      "The solutions for theta1 and theta2 to satisfy k are given here in radians.\n",
      "Each row is one of four possible solutions. Columns 1 and 2 represet theta1 and theta2 respectivly.\n"
     ]
    },
    {
     "data": {
      "text/plain": [
       "[(-0.785398163397448, 5.49778714378214), (2.35619449019234, 0.785398163397448)]"
      ]
     },
     "execution_count": 454,
     "metadata": {},
     "output_type": "execute_result"
    }
   ],
   "source": [
    "# define k\n",
    "k = sp.Matrix([-1/2, 1/2, -sp.sqrt(2)/2])\n",
    "# set up equations relating the z part of the rotation matrix with k\n",
    "eq1_partd = sp.Eq(R0c[0,2], k[0])\n",
    "eq2_partd = sp.Eq(R0c[1,2], k[1])\n",
    "eq3_partd = sp.Eq(R0c[2,2], k[2])\n",
    "\n",
    "# This function takes in the three equations and solves them for theta1 and theta2\n",
    "solutionPartD = sp.solve([eq1_partd, eq2_partd, eq3_partd], (theta1, theta2), check=True)\n",
    "\n",
    "#The 4 different solutions for theta1 and theta2 in rad\n",
    "print(\"The solutions for theta1 and theta2 to satisfy k are given here in radians.\")\n",
    "print(\"Each row is one of four possible solutions. Columns 1 and 2 represet theta1 and theta2 respectivly.\")\n",
    "solutionPartD"
   ]
  },
  {
   "cell_type": "code",
   "execution_count": 455,
   "metadata": {},
   "outputs": [
    {
     "name": "stdout",
     "output_type": "stream",
     "text": [
      "The same solutions from above in degrees:\n",
      "Each row is one of four possible solutions. Columns 1 and 2 represet theta1 and theta2 respectivly.\n"
     ]
    },
    {
     "data": {
      "text/latex": [
       "$\\displaystyle \\left[\\begin{matrix}-45.0 & 315.0\\\\135.0 & 45.0\\end{matrix}\\right]$"
      ],
      "text/plain": [
       "Matrix([\n",
       "[-45.0, 315.0],\n",
       "[135.0,  45.0]])"
      ]
     },
     "execution_count": 455,
     "metadata": {},
     "output_type": "execute_result"
    }
   ],
   "source": [
    "#convert theta1 and theta2 into degrees\n",
    "solutionPartD_list = []\n",
    "for a in solutionPartD:\n",
    "    solutionPartD_list.append(a)\n",
    "solutionPartD_deg = np.rad2deg(np.array(solutionPartD_list, dtype=float))\n",
    "\n",
    "print(\"The same solutions from above in degrees:\")\n",
    "print(\"Each row is one of four possible solutions. Columns 1 and 2 represet theta1 and theta2 respectivly.\")\n",
    "sp.Matrix(solutionPartD_deg)"
   ]
  },
  {
   "cell_type": "markdown",
   "metadata": {},
   "source": [
    "We are given 4 solutions here, lets check them all to see which ones make sense.\n",
    "\n",
    "We will do this by plugging theta into the pose of frame c in respect to frame 0 and then comparing it to the orientation of k. If they are the same, then we have correctly found angles to make the end effector have that orientation."
   ]
  },
  {
   "cell_type": "code",
   "execution_count": 456,
   "metadata": {},
   "outputs": [
    {
     "name": "stdout",
     "output_type": "stream",
     "text": [
      "⎡0.707106781186547         0.5                 -0.5         -0.965685424949238⎤\n",
      "⎢                                                                             ⎥\n",
      "⎢0.707106781186548         -0.5                0.5          -0.165685424949238⎥\n",
      "⎢                                                                             ⎥\n",
      "⎢        0          -0.707106781186548  -0.707106781186547  0.634314575050762 ⎥\n",
      "⎢                                                                             ⎥\n",
      "⎣        0                  0                   0                   1         ⎦\n",
      "\n",
      "⎡-0.707106781186548        -0.5                -0.5         0.165685424949238⎤\n",
      "⎢                                                                            ⎥\n",
      "⎢-0.707106781186547         0.5                0.5          0.965685424949238⎥\n",
      "⎢                                                                            ⎥\n",
      "⎢        0           0.707106781186547  -0.707106781186548  0.634314575050762⎥\n",
      "⎢                                                                            ⎥\n",
      "⎣        0                   0                  0                   1        ⎦\n",
      "\n",
      "\n",
      "Correct solutions found:\n",
      "\n",
      "Solution 1:\n",
      "Theta1 and theta2:\n",
      "\t(-0.785398163397448, 5.49778714378214)\n",
      "Result in this pose:\n",
      "\n",
      "⎡0.707106781186547         0.5                 -0.5         -0.965685424949238⎤\n",
      "⎢                                                                             ⎥\n",
      "⎢0.707106781186548         -0.5                0.5          -0.165685424949238⎥\n",
      "⎢                                                                             ⎥\n",
      "⎢        0          -0.707106781186548  -0.707106781186547  0.634314575050762 ⎥\n",
      "⎢                                                                             ⎥\n",
      "⎣        0                  0                   0                   1         ⎦\n",
      "\n",
      "Solution 2:\n",
      "Theta1 and theta2:\n",
      "\t(2.35619449019234, 0.785398163397448)\n",
      "Result in this pose:\n",
      "\n",
      "⎡-0.707106781186548        -0.5                -0.5         0.165685424949238⎤\n",
      "⎢                                                                            ⎥\n",
      "⎢-0.707106781186547         0.5                0.5          0.965685424949238⎥\n",
      "⎢                                                                            ⎥\n",
      "⎢        0           0.707106781186547  -0.707106781186548  0.634314575050762⎥\n",
      "⎢                                                                            ⎥\n",
      "⎣        0                   0                  0                   1        ⎦\n",
      "\n"
     ]
    }
   ],
   "source": [
    "correct_solutions = []\n",
    "corresponding_theta = []\n",
    "# Plug in solution to pose, check to see if the z part of the rotation matrix matches up with k\n",
    "for theta_iterate in solutionPartD:\n",
    "    solution_on_trial = T0c.subs({theta1: theta_iterate[0], theta2: theta_iterate[1], d1: 1.2, d2: 0.8, d3: 0.8})\n",
    "    dif = solution_on_trial[:3,2] - k # solution_on_trial is the pose, index [:3,2] extracts z part of the rotation matrix\n",
    "    sp.pprint(solution_on_trial)\n",
    "    print()\n",
    "    if dif[0] < 0.00001 and dif[1] < 0.00001 and dif[2] < 0.00001:\n",
    "        correct_solutions.append(solution_on_trial) \n",
    "        corresponding_theta.append(theta_iterate)\n",
    "\n",
    "print(\"\\nCorrect solutions found:\\n\")\n",
    "for a in range(len(correct_solutions)):\n",
    "    print(\"Solution %d:\" % (a+1))\n",
    "    print(\"Theta1 and theta2:\", end=\"\\n\\t\")\n",
    "    sp.pprint(corresponding_theta[a])\n",
    "    print(\"Result in this pose:\\n\")\n",
    "    sp.pprint(correct_solutions[a])\n",
    "    print()\n"
   ]
  },
  {
   "cell_type": "markdown",
   "metadata": {},
   "source": [
    "We can see from the 4 solutions, only 2 correctly represent a pose that matches k. To narrow down only one solution, we would need position information."
   ]
  },
  {
   "cell_type": "markdown",
   "metadata": {},
   "source": [
    "# Part E\n",
    "(e) Repeat part (d) to find the value of $ \\theta_1 $ and $ \\theta_2 $ if the origin of frame $\\{C\\}$ is located at a point $ P $, whose coordinate vector is given in frame $\\{0\\}$ by\n",
    "\n",
    "$$\n",
    "p = 1.075x_0 + 0.303y_0 + 1.022z_0.\n",
    "$$\n"
   ]
  },
  {
   "cell_type": "markdown",
   "metadata": {},
   "source": [
    "Remember from the Inverse Kinematics section that we found these functions:\n",
    "\n",
    "$ \\theta_1 = f({}^0x_c, {}^0y_c, {}^0z_c) $\n",
    "\n",
    "$ \\theta_2 = f({}^0x_c, {}^0y_c, {}^0z_c) $\n",
    "\n",
    "In the following code, we will be plugging $ p $ into $ {}^0x_c, {}^0y_c, $ and $ {}^0z_c $ and figuring out what $ \\theta_1 $ and $ \\theta_2 $ could be. "
   ]
  },
  {
   "cell_type": "code",
   "execution_count": 457,
   "metadata": {},
   "outputs": [
    {
     "name": "stdout",
     "output_type": "stream",
     "text": [
      "All possible solution pairs for theta that correspond to point p in radians.\n",
      "Each row is one of four possible solutions. Columns 1 and 2 represet theta1 and theta2 respectivly.\n"
     ]
    },
    {
     "data": {
      "text/plain": [
       "[(1.07272370972679, 1.34641832379787),\n",
       " (-1.07272370972679, -1.34641832379787 + 2*pi),\n",
       " (-2.61813591673788, 1.34641832379787),\n",
       " (2.61813591673788, -1.34641832379787 + 2*pi)]"
      ]
     },
     "execution_count": 457,
     "metadata": {},
     "output_type": "execute_result"
    }
   ],
   "source": [
    "theta_on_trial_dict = {\n",
    "    d1: 1.2, \n",
    "    d2: 0.8, \n",
    "    d3: 0.8,\n",
    "    xc: 1.075,\n",
    "    yc: 0.303,\n",
    "    zc: 1.022\n",
    "}\n",
    "\n",
    "# Plug p into solutions_for_theta to get possible outputs of theta\n",
    "theta_options_partE = []\n",
    "for a in range(len(solutions_for_theta)):\n",
    "    temp_list = []\n",
    "    for b in range(len(solutions_for_theta[0])):\n",
    "        theta_current_value = solutions_for_theta[a][b].subs(theta_on_trial_dict)\n",
    "        temp_list.append(theta_current_value)\n",
    "    theta_options_partE.append(tuple(temp_list))\n",
    "\n",
    "print(\"All possible solution pairs for theta that correspond to point p in radians.\")\n",
    "print(\"Each row is one of four possible solutions. Columns 1 and 2 represet theta1 and theta2 respectivly.\")\n",
    "\n",
    "theta_options_partE"
   ]
  },
  {
   "cell_type": "markdown",
   "metadata": {},
   "source": [
    "Now we need to check which solutions make sense. Lets plug in these theta values into the pose of frame c in resepect to frame 0 and see if we get the correct position after."
   ]
  },
  {
   "cell_type": "code",
   "execution_count": 458,
   "metadata": {},
   "outputs": [
    {
     "name": "stdout",
     "output_type": "stream",
     "text": [
      "\n",
      "-- Correct solutions found: --\n",
      "\n",
      "Solution 1:\n",
      "Theta1 and theta2 in rad:\n",
      "\t(-1.07272370972679, -1.34641832379787 + 2⋅π)\n",
      "Result in this pose:\n",
      "\n",
      "⎡0.878504967894967  0.106295639561954   -0.465757724996567  -1.07541015431323⎤\n",
      "⎢                                                                            ⎥\n",
      "⎢0.477733211514401  -0.19546735535663   0.856483211514401         0.303      ⎥\n",
      "⎢                                                                            ⎥\n",
      "⎢        0          -0.974932689984288       -0.2225              1.022      ⎥\n",
      "⎢                                                                            ⎥\n",
      "⎣        0                  0                   0                   1        ⎦\n",
      "\n",
      "Solution 2:\n",
      "Theta1 and theta2 in rad:\n",
      "\t(-2.61813591673788, 1.34641832379787)\n",
      "Result in this pose:\n",
      "\n",
      "⎡0.499876985793974   -0.192706452208752  -0.84438570709756   -1.07541015431323⎤\n",
      "⎢                                                                             ⎥\n",
      "⎢-0.866096414421357  -0.111222629339159  -0.487346414421357        0.303      ⎥\n",
      "⎢                                                                             ⎥\n",
      "⎢        0           0.974932689984288        -0.2225              1.022      ⎥\n",
      "⎢                                                                             ⎥\n",
      "⎣        0                   0                   0                   1        ⎦\n",
      "\n"
     ]
    }
   ],
   "source": [
    "p = sp.Matrix([1.075, 0.303, 1.022])\n",
    "\n",
    "# Plug in theta to pose, check to see if the position of the pose matches up with p\n",
    "correct_solutions = []\n",
    "corresponding_theta = []\n",
    "for theta_iterate in theta_options_partE:\n",
    "    pose_on_trial = T0c.subs({theta1: theta_iterate[0], theta2: theta_iterate[1], d1: 1.2, d2: 0.8, d3: 0.8})\n",
    "    dif = pose_on_trial[:3,3] - p # pose_on_trial is the pose, index [:3,3] extracts the position\n",
    "    if dif[0] < 0.00001 and dif[1] < 0.00001 and dif[2] < 0.00001:\n",
    "        correct_solutions.append(pose_on_trial) \n",
    "        corresponding_theta.append(theta_iterate)\n",
    "\n",
    "print(\"\\n-- Correct solutions found: --\\n\")\n",
    "for a in range(len(correct_solutions)):\n",
    "    print(\"Solution %d:\" % (a+1))\n",
    "    print(\"Theta1 and theta2 in rad:\", end=\"\\n\\t\")\n",
    "    sp.pprint(corresponding_theta[a])\n",
    "    print(\"Result in this pose:\\n\")\n",
    "    sp.pprint(correct_solutions[a])\n",
    "    print()\n",
    "\n",
    "\n"
   ]
  },
  {
   "cell_type": "markdown",
   "metadata": {},
   "source": [
    "We can see from the 4 solutions, only 2 correctly represent a pose that matches p. To narrow down only one solution, we would need orientation information."
   ]
  },
  {
   "cell_type": "markdown",
   "metadata": {},
   "source": [
    "# Question 2 (20 points)\n",
    "\n",
    "Resolve the velocity-level forward and inverse kinematics of the Furuta pendulum and answer the following questions:\n",
    "\n",
    "### (a) [5 points]\n",
    "At the pose given in part (a) of Question 1, if the joint velocities are given by\n",
    "\n",
    "$$\n",
    "\\dot{\\theta} = \n",
    "\\begin{bmatrix}\n",
    "1 \\\\\n",
    "2\n",
    "\\end{bmatrix}^{\\top}\n",
    "$$\n",
    "\n",
    "what are the body and spatial twists (angular and linear) velocity of the end-effector?\n",
    "\n",
    "### (b) [5 points]\n",
    "At the same pose in part (a), what are the body and spatial twists of frame {2}?\n",
    "\n",
    "### (c) [5 points]\n",
    "At the same pose in part (a), if the end-effector frame {C} is moving with a body twist given by\n",
    "\n",
    "$$\n",
    "{}^{c}V_{c} = (\\omega_c, v_c) =\n",
    "\\begin{bmatrix}\n",
    "-1.2 \\\\\n",
    "0.487 \\\\\n",
    "0.111 \\\\\n",
    "0.39 \\\\\n",
    "0.871 \\\\\n",
    "0.39\n",
    "\\end{bmatrix}\n",
    "$$\n",
    "\n",
    "what are the joint rates?\n",
    "\n",
    "### (d) [5 points]\n",
    "Repeat part (c) for the case where the spatial twist of the end-effector is given by\n",
    "\n",
    "$$\n",
    "{}^{0}V_{c} = (\\omega_c, v_c) =\n",
    "\\begin{bmatrix}\n",
    "-0.35 \\\\\n",
    "-0.606 \\\\\n",
    "0.5 \\\\\n",
    "-0.044 \\\\\n",
    "0.475 \\\\\n",
    "0.546\n",
    "\\end{bmatrix}\n",
    "$$\n"
   ]
  },
  {
   "cell_type": "markdown",
   "metadata": {},
   "source": [
    "## Forward Velocity Kinematics\n",
    "We will be solving the forward velocity kinematics for frame c in respect to frame 0\n",
    "\n",
    "#### Compute the spatial twist first"
   ]
  },
  {
   "cell_type": "code",
   "execution_count": null,
   "metadata": {},
   "outputs": [
    {
     "name": "stdout",
     "output_type": "stream",
     "text": [
      "This is the spatial twist of frame c with respect of frame 0.\n",
      "v is on top, omega is on bottom\n"
     ]
    },
    {
     "data": {
      "text/latex": [
       "$\\displaystyle \\left[\\begin{matrix}\\dot{\\theta_2} d_{1} \\cos{\\left(\\theta_{1} \\right)}\\\\\\dot{\\theta_2} d_{1} \\sin{\\left(\\theta_{1} \\right)}\\\\0\\\\\\dot{\\theta_2} \\sin{\\left(\\theta_{1} \\right)}\\\\- \\dot{\\theta_2} \\cos{\\left(\\theta_{1} \\right)}\\\\\\dot{\\theta_1}\\end{matrix}\\right]$"
      ],
      "text/plain": [
       "Matrix([\n",
       "[\\dot{\\theta_2}*d1*cos(theta1)],\n",
       "[\\dot{\\theta_2}*d1*sin(theta1)],\n",
       "[                            0],\n",
       "[   \\dot{\\theta_2}*sin(theta1)],\n",
       "[  -\\dot{\\theta_2}*cos(theta1)],\n",
       "[               \\dot{\\theta_1}]])"
      ]
     },
     "execution_count": 459,
     "metadata": {},
     "output_type": "execute_result"
    }
   ],
   "source": [
    "# Compute Spatial Twist of Frame c in frame 0\n",
    "\n",
    "theta1_dot = sp.symbols(r\"\\dot{\\theta_1}\")\n",
    "theta2_dot = sp.symbols(r\"\\dot{\\theta_2}\")\n",
    "time = sp.symbols(r\"t\")\n",
    "\n",
    "# Given angular velocities\n",
    "w01_0 = sp.Matrix([0,0,theta1_dot]) # read as omega of frame 1 in respect to frame 0 expressed in 0\n",
    "w12_1 = sp.Matrix([0,0,theta2_dot])\n",
    "w2c_2 = sp.Matrix([0,0,0])\n",
    "\n",
    "# Construct spatial angular velocity in order to find R0c_dot_spatial\n",
    "# Each angular velocity needs to be expressed in frame 0\n",
    "w12_0 = sp.Matrix(R01.A) @ w12_1\n",
    "w2c_0 = sp.Matrix(R01.A) @ sp.Matrix(R12.A) @ w2c_2\n",
    "w0c_0 = w01_0 + w12_0 + w2c_0                 # This is the spatial angular velocity of frame c \n",
    "w0c_0_skew = sp.Matrix(skew(np.array(w0c_0))) # this is the skew of that angular velocity\n",
    "\n",
    "# FIND R0c_dot_spatial using angular velocity spatial and R0c\n",
    "R0c_dot_spatial = sp.simplify(w0c_0_skew @ R0c)\n",
    "\n",
    "# this is the scuffed code to make the derivative work, without this all the thetas will calculate as theta dot. \n",
    "theta1_function_of_time = theta1_dot * time\n",
    "theta2_function_of_time = theta2_dot * time\n",
    "\n",
    "# Find t0c_dot by taking the derivative of t assuming the thetas are functions of time\n",
    "t0c_dot_spatial = sp.diff(t0c.subs({theta1: theta1_function_of_time, theta2: theta2_function_of_time}), time).subs({theta1_function_of_time: theta1, theta2_function_of_time: theta2})\n",
    "\n",
    "# Construct the transformation dot by plugging it all in\n",
    "T0c_dot_spatial = sp.Matrix.hstack(sp.Matrix.vstack(R0c_dot_spatial, sp.Matrix([0,0,0]).transpose()), sp.Matrix.vstack(t0c_dot_spatial, sp.Matrix([0])))#smush the r dot matrix and the t dot matrix together into the tranformation matrix derivative\n",
    "\n",
    "# Construct the spatial twist\n",
    "twist_0c_skew_spatial = sp.simplify(T0c_dot_spatial @ (T0c.inv()))\n",
    "twist_0c_spatial = sp.Matrix(vexa(np.array(twist_0c_skew_spatial)))\n",
    "print(\"This is the spatial twist of frame c with respect of frame 0.\\nv is on top, omega is on bottom\")  \n",
    "twist_0c_spatial\n"
   ]
  },
  {
   "cell_type": "markdown",
   "metadata": {},
   "source": [
    "#### Now compute the body twist the same way"
   ]
  },
  {
   "cell_type": "code",
   "execution_count": 460,
   "metadata": {},
   "outputs": [
    {
     "name": "stdout",
     "output_type": "stream",
     "text": [
      "This is the body twist of frame c with respect of frame 0.\n",
      "v is on top, omega is on bottom\n"
     ]
    },
    {
     "data": {
      "text/latex": [
       "$\\displaystyle \\left[\\begin{matrix}\\dot{\\theta_1} d_{3} \\sin{\\left(\\theta_{2} \\right)}\\\\\\dot{\\theta_1} d_{2} \\cos{\\left(\\theta_{2} \\right)} + \\dot{\\theta_2} d_{3}\\\\\\dot{\\theta_1} d_{2} \\sin{\\left(\\theta_{2} \\right)}\\\\- \\dot{\\theta_2}\\\\\\dot{\\theta_1} \\sin{\\left(\\theta_{2} \\right)}\\\\- \\dot{\\theta_1} \\cos{\\left(\\theta_{2} \\right)}\\end{matrix}\\right]$"
      ],
      "text/plain": [
       "Matrix([\n",
       "[                    \\dot{\\theta_1}*d3*sin(theta2)],\n",
       "[\\dot{\\theta_1}*d2*cos(theta2) + \\dot{\\theta_2}*d3],\n",
       "[                    \\dot{\\theta_1}*d2*sin(theta2)],\n",
       "[                                  -\\dot{\\theta_2}],\n",
       "[                       \\dot{\\theta_1}*sin(theta2)],\n",
       "[                      -\\dot{\\theta_1}*cos(theta2)]])"
      ]
     },
     "execution_count": 460,
     "metadata": {},
     "output_type": "execute_result"
    }
   ],
   "source": [
    "# Construct body angular velocity in order to find R0c_dot_body\n",
    "# Each angular velocity needs to be expressed in frame c\n",
    "w01_c = R0c.transpose() @ w01_0\n",
    "w12_c = sp.Matrix(R2c.A).transpose() @ sp.Matrix((R12.A)).transpose() @ w12_1\n",
    "w2c_c = sp.Matrix(R2c.A).transpose() @ w2c_2\n",
    "\n",
    "w0c_c = w01_c + w12_c + w2c_c                 # This is the body angular velocity of frame c \n",
    "w0c_c_skew = sp.Matrix(skew(np.array(w0c_c))) # this is the skew of that angular velocity\n",
    "\n",
    "# FIND R0c_dot_body using angular velocity body and R0c\n",
    "R0c_dot_body = sp.simplify(R0c @ w0c_c_skew)\n",
    "\n",
    "# this is the scuffed code to make the derivative work, without this all the thetas will calculate as theta dot. \n",
    "theta1_function_of_time = theta1_dot * time\n",
    "theta2_function_of_time = theta2_dot * time\n",
    "\n",
    "# Find t0c_dot by taking the derivative of t assuming the thetas are functions of time\n",
    "t0c_dot_body = sp.diff(t0c.subs({theta1: theta1_function_of_time, theta2: theta2_function_of_time}), time).subs({theta1_function_of_time: theta1, theta2_function_of_time: theta2})\n",
    "\n",
    "# Construct the transformation dot by plugging it all in\n",
    "T0c_dot_body = sp.Matrix.hstack(sp.Matrix.vstack(R0c_dot_body, sp.Matrix([0,0,0]).transpose()), sp.Matrix.vstack(t0c_dot_body, sp.Matrix([0])))#smush the r dot matrix and the t dot matrix together into the tranformation matrix derivative\n",
    "\n",
    "# Construct the body twist\n",
    "twist_0c_skew_body = sp.simplify((T0c.inv()) @ T0c_dot_body )\n",
    "twist_0c_body = sp.Matrix(vexa(np.array(twist_0c_skew_body)))\n",
    "print(\"This is the body twist of frame c with respect of frame 0.\\nv is on top, omega is on bottom\")  \n",
    "twist_0c_body"
   ]
  },
  {
   "cell_type": "markdown",
   "metadata": {},
   "source": [
    "#### Verify with ad-joint"
   ]
  },
  {
   "cell_type": "code",
   "execution_count": 483,
   "metadata": {},
   "outputs": [
    {
     "name": "stdout",
     "output_type": "stream",
     "text": [
      "Body twist constructed from ad-joint:\n"
     ]
    },
    {
     "data": {
      "text/latex": [
       "$\\displaystyle \\left[\\begin{matrix}\\dot{\\theta_1} d_{3} \\sin{\\left(\\theta_{2} \\right)}\\\\\\dot{\\theta_1} d_{2} \\cos{\\left(\\theta_{2} \\right)} + \\dot{\\theta_2} d_{3}\\\\\\dot{\\theta_1} d_{2} \\sin{\\left(\\theta_{2} \\right)}\\\\- \\dot{\\theta_2}\\\\\\dot{\\theta_1} \\sin{\\left(\\theta_{2} \\right)}\\\\- \\dot{\\theta_1} \\cos{\\left(\\theta_{2} \\right)}\\end{matrix}\\right]$"
      ],
      "text/plain": [
       "Matrix([\n",
       "[                    \\dot{\\theta_1}*d3*sin(theta2)],\n",
       "[\\dot{\\theta_1}*d2*cos(theta2) + \\dot{\\theta_2}*d3],\n",
       "[                    \\dot{\\theta_1}*d2*sin(theta2)],\n",
       "[                                  -\\dot{\\theta_2}],\n",
       "[                       \\dot{\\theta_1}*sin(theta2)],\n",
       "[                      -\\dot{\\theta_1}*cos(theta2)]])"
      ]
     },
     "execution_count": 483,
     "metadata": {},
     "output_type": "execute_result"
    }
   ],
   "source": [
    "# find body twist using the spatial twist and an adjoint transformation\n",
    "from spatialmath.base import tr2adjoint\n",
    "print(\"Body twist constructed from ad-joint:\")\n",
    "sp.simplify(sp.Matrix(tr2adjoint(np.array(T0c.inv()))) @ twist_0c_spatial)"
   ]
  },
  {
   "cell_type": "markdown",
   "metadata": {},
   "source": [
    "As can be seen, the body twist calculated is the same as the body twist constructed from the as-joint"
   ]
  },
  {
   "cell_type": "markdown",
   "metadata": {},
   "source": [
    "## Solve Inverse Kinematics Given a Twist\n",
    "In this section, we will be solving for $\\dot{\\theta}_1$ and $\\dot{\\theta}_2$, the joint velocities of the Furuta pendulum, given a desired end-effector twist. We will solve for the spatial and body.\n"
   ]
  },
  {
   "cell_type": "markdown",
   "metadata": {},
   "source": [
    "### Solve Spatial Twist Inverse Kinematics \n",
    "Solve for $ \\dot{\\theta}_1 $ and $ \\dot{\\theta}_2 $\n",
    "\n",
    "$$\n",
    "{}^0V_c^0\n",
    "=\n",
    "\\left[\n",
    "\\begin{array}{c}\n",
    "\\dot{\\theta_2} d_{1} \\cos{\\left(\\theta_{1} \\right)} \\\\\n",
    "\\dot{\\theta_2} d_{1} \\sin{\\left(\\theta_{1} \\right)} \\\\\n",
    "0 \\\\\n",
    "\\dot{\\theta_2} \\sin{\\left(\\theta_{1} \\right)} \\\\\n",
    "- \\dot{\\theta_2} \\cos{\\left(\\theta_{1} \\right)} \\\\\n",
    "\\dot{\\theta_1}\n",
    "\\end{array}\n",
    "\\right]\n",
    "=\n",
    "\\left[\n",
    "\\begin{array}{c}\n",
    "{}^0_xv_c^0 \\\\\n",
    "{}^0_yv_c^0 \\\\\n",
    "{}^0_zv_c^0 \\\\\n",
    "{}^0_xw_c^0 \\\\\n",
    "{}^0_yw_c^0 \\\\\n",
    "{}^0_zw_c^0\n",
    "\\end{array}\n",
    "\\right]\n",
    "$$"
   ]
  },
  {
   "cell_type": "code",
   "execution_count": 487,
   "metadata": {},
   "outputs": [],
   "source": [
    "\n",
    "v_x_spatial, v_y_spatial, v_z_spatial, w_x_spatial, w_y_spatial, w_z_spatial = sp.symbols(\n",
    "    '{}^0_xv_c^0 {}^0_yv_c^0 {}^0_zv_c^0 {}^0_xw_c^0 {}^0_yw_c^0 {}^0_zw_c^0', real=True\n",
    ")\n",
    "twist_spatial_components = sp.Matrix([\n",
    "    v_x_spatial,\n",
    "    v_y_spatial,\n",
    "    v_z_spatial,\n",
    "    w_x_spatial,\n",
    "    w_y_spatial,\n",
    "    w_z_spatial\n",
    "])\n",
    "\n",
    "# Set up each equality individually.\n",
    "eq1 = sp.Eq(twist_0c_spatial[0], twist_spatial_components[0])\n",
    "eq2 = sp.Eq(twist_0c_spatial[1], twist_spatial_components[1])\n",
    "eq3 = sp.Eq(twist_0c_spatial[2], twist_spatial_components[2])\n",
    "eq4 = sp.Eq(twist_0c_spatial[3], twist_spatial_components[3])\n",
    "eq5 = sp.Eq(twist_0c_spatial[4], twist_spatial_components[4])\n",
    "eq6 = sp.Eq(twist_0c_spatial[5], twist_spatial_components[5])\n",
    "\n",
    "# - Put solutions into a list \n",
    "# - This has to be done because sympy's solve function does like 6 equations and 2 unknowns\n",
    "# look at the 6th equation to solve for theta1_dot since it is the only equation with theta1_dot\n",
    "theta1_dot_spatial_solutions = []\n",
    "theta1_dot_spatial_solutions.append(sp.solve(eq6, theta1_dot)[0])\n",
    "\n",
    "# look at the equations 1,2,4, and 5 to solve for theta2_dot since they are the only equations with theta2_dot\n",
    "# Store the solutions in a list. Will need to be carful about how each one is called depending on what is given later. \n",
    "theta2_dot_spatial_solutions = []\n",
    "theta2_dot_spatial_solutions.append(sp.solve(eq1, theta2_dot)[0])\n",
    "theta2_dot_spatial_solutions.append(sp.solve(eq2, theta2_dot)[0])\n",
    "theta2_dot_spatial_solutions.append(sp.solve(eq4, theta2_dot)[0])\n",
    "theta2_dot_spatial_solutions.append(sp.solve(eq5, theta2_dot)[0])"
   ]
  },
  {
   "cell_type": "markdown",
   "metadata": {},
   "source": [
    "#### Joint Velocities $ \\dot{\\theta}_1 $ and $ \\dot{\\theta}_2 $ as functions of the spatial twist\n",
    "\n",
    "From the symbolic solution, we find:\n",
    "\n",
    "- The joint velocity $ \\dot{\\theta}_1 $ is uniquely determined by the spatial twist’s $ z $-angular component:\n",
    "\n",
    "$$\n",
    "\\dot{\\theta}_1 = {}^0_z \\omega_c^0.\n",
    "$$\n",
    "\n",
    "- The joint velocity $ \\dot{\\theta}_2 $ can take multiple equivalent forms:\n",
    "\n",
    "$$\n",
    "\\dot{\\theta}_2 = \n",
    "\\begin{cases}\n",
    "    \\displaystyle \\frac{{}^0_x v_c^0}{d_1 \\cos(\\theta_1)}, & \\text{(from equation 1)} \\\\[8pt]\n",
    "    \\displaystyle \\frac{{}^0_y v_c^0}{d_1 \\sin(\\theta_1)}, & \\text{(from equation 2)} \\\\[8pt]\n",
    "    \\displaystyle \\frac{{}^0_x \\omega_c^0}{\\sin(\\theta_1)}, & \\text{(from equation 4)} \\\\[8pt]\n",
    "    \\displaystyle -\\,\\frac{{}^0_y \\omega_c^0}{\\cos(\\theta_1)}. & \\text{(from equation 5)}\n",
    "\\end{cases}\n",
    "$$\n",
    "\n",
    "In summary, $\\dot{\\theta}_1$  is directly determined by the  $z$ -angular component of the spatial twist, whereas  $\\dot{\\theta}_2$  has multiple possible expressions depending on different parts of the spatial twist.\n"
   ]
  },
  {
   "cell_type": "markdown",
   "metadata": {},
   "source": [
    "### Solve Body Twist Inverse Kinematics\n",
    "Solve for $ \\dot{\\theta}_1 $ and $ \\dot{\\theta}_2 $\n",
    "$$\n",
    "{}^cV_c^0\n",
    "=\n",
    "\\left[\n",
    "\\begin{array}{c}\n",
    "\\dot{\\theta_1} d_{3} \\sin{\\left(\\theta_{2} \\right)} \\\\\n",
    "\\dot{\\theta_1} d_{2} \\cos{\\left(\\theta_{2} \\right)} + \\dot{\\theta_2} d_{3} \\\\\n",
    "\\dot{\\theta_1} d_{2} \\sin{\\left(\\theta_{2} \\right)} \\\\\n",
    "- \\dot{\\theta_2} \\\\\n",
    "\\dot{\\theta_1} \\sin{\\left(\\theta_{2} \\right)} \\\\\n",
    "- \\dot{\\theta_1} \\cos{\\left(\\theta_{2} \\right)}\n",
    "\\end{array}\n",
    "\\right]\n",
    "=\n",
    "\\left[\n",
    "\\begin{array}{c}\n",
    "{}^c_xv_c^0 \\\\\n",
    "{}^c_yv_c^0 \\\\\n",
    "{}^c_zv_c^0 \\\\\n",
    "{}^c_xw_c^0 \\\\\n",
    "{}^c_yw_c^0 \\\\\n",
    "{}^c_zw_c^0\n",
    "\\end{array}\n",
    "\\right]\n",
    "$$\n"
   ]
  },
  {
   "cell_type": "code",
   "execution_count": 491,
   "metadata": {},
   "outputs": [],
   "source": [
    "v_x_body, v_y_body, v_z_body, w_x_body, w_y_body, w_z_body = sp.symbols(\n",
    "    '{}^c_xv_c^0 {}^c_yv_c^0 {}^c_zv_c^0 {}^c_xw_c^0 {}^c_yw_c^0 {}^c_zw_c^0', real=True\n",
    ")\n",
    "\n",
    "twist_body_components = sp.Matrix([\n",
    "    v_x_body,\n",
    "    v_y_body,\n",
    "    v_z_body,\n",
    "    w_x_body,\n",
    "    w_y_body,\n",
    "    w_z_body\n",
    "])\n",
    "\n",
    "\n",
    "eq1 = sp.Eq(twist_0c_body[0], twist_body_components[0])\n",
    "eq2 = sp.Eq(twist_0c_body[1], twist_body_components[1])\n",
    "eq3 = sp.Eq(twist_0c_body[2], twist_body_components[2])\n",
    "eq4 = sp.Eq(twist_0c_body[3], twist_body_components[3])\n",
    "eq5 = sp.Eq(twist_0c_body[4], twist_body_components[4])\n",
    "eq6 = sp.Eq(twist_0c_body[5], twist_body_components[5])\n",
    "\n",
    "# look at the 4th equation to solve for theta2_dot since it is the only equation with theta2_dot by itself\n",
    "theta2_dot_body_solutions = []\n",
    "theta2_dot_body_solutions.append(sp.solve(eq4, theta2_dot)[0])\n",
    "\n",
    "# look at the equations 1,3,5, and 6 to solve for theta1_dot since they are the only equations with theta1_dot by themselves\n",
    "# Store the solutions in a list. Will need to be carful about how each one is called depending on what is given later. \n",
    "theta1_dot_body_solutions = []\n",
    "theta1_dot_body_solutions.append(sp.solve(eq1, theta1_dot)[0])\n",
    "theta1_dot_body_solutions.append(sp.solve(eq3, theta1_dot)[0])\n",
    "theta1_dot_body_solutions.append(sp.solve(eq5, theta1_dot)[0])\n",
    "theta1_dot_body_solutions.append(sp.solve(eq6, theta1_dot)[0])\n",
    "\n",
    "# solve equation 2 by plugging in the solution for theta2_dot\n",
    "theta1_dot_body_solutions.append((sp.solve(eq2, theta1_dot)[0]).subs({theta2_dot: theta2_dot_body_solutions[0]}))"
   ]
  },
  {
   "cell_type": "markdown",
   "metadata": {},
   "source": [
    "#### Joint Velocities $ \\dot{\\theta}_1 $ and $ \\dot{\\theta}_2 $ as functions of the body twist\n",
    "\n",
    "From the symbolic solution, we find:\n",
    "\n",
    "- The joint velocity $ \\dot{\\theta}_2 $ is uniquely determined by the body twist’s $ x $-angular component:\n",
    "\n",
    "$$\n",
    "\\dot{\\theta}_2 = -{}^c_x \\omega_c^0.\n",
    "$$\n",
    "\n",
    "- The joint velocity $ \\dot{\\theta}_1 $ can take multiple equivalent forms:\n",
    "\n",
    "$$\n",
    "\\dot{\\theta}_1 = \n",
    "\\begin{cases}\n",
    "    \\displaystyle \\frac{{}^c_x v_c^0}{d_3 \\sin(\\theta_2)}, & \\text{(from equation 1)} \\\\[8pt]\n",
    "    \\displaystyle \\frac{{}^c_z v_c^0}{d_2 \\sin(\\theta_2)}, & \\text{(from equation 3)} \\\\[8pt]\n",
    "    \\displaystyle \\frac{{}^c_y \\omega_c^0}{\\sin(\\theta_2)}, & \\text{(from equation 5)} \\\\[8pt]\n",
    "    \\displaystyle -\\,\\frac{{}^c_z \\omega_c^0}{\\cos(\\theta_2)}, & \\text{(from equation 6)} \\\\[8pt]\n",
    "    \\displaystyle \\frac{d_3 {}^c_x \\omega_c^0 + {}^c_y v_c^0}{d_2 \\cos(\\theta_2)}. & \\text{(from equation 2, after substituting $ \\dot{\\theta}_2 $)}\n",
    "\\end{cases}\n",
    "$$\n",
    "\n",
    "In summary, $ \\dot{\\theta}_2 $ is directly determined by the body twist’s $ x $-angular component, whereas $ \\dot{\\theta}_1 $ has multiple possible expressions.\n"
   ]
  },
  {
   "cell_type": "markdown",
   "metadata": {},
   "source": [
    "## Part A\n",
    "(a) At the pose given in part (a) of Question 1, if the joint velocities are given by \n",
    "\n",
    "$$\n",
    "\\dot{\\boldsymbol{\\theta}} = \\begin{bmatrix} 1 & 2 \\end{bmatrix}^{\\top}\n",
    "$$ \n",
    "\n",
    "what are the body and spatial twists (angular and linear velocity) of the end-effector?\n"
   ]
  },
  {
   "cell_type": "code",
   "execution_count": 494,
   "metadata": {},
   "outputs": [
    {
     "name": "stdout",
     "output_type": "stream",
     "text": [
      "The Spatial Twist of frame c in respect to frame 0 with the given values: \n"
     ]
    },
    {
     "data": {
      "text/latex": [
       "$\\displaystyle \\left[\\begin{matrix}-2.07846096908265\\\\1.2\\\\0\\\\1.0\\\\1.73205080756888\\\\1.0\\end{matrix}\\right]$"
      ],
      "text/plain": [
       "Matrix([\n",
       "[-2.07846096908265],\n",
       "[              1.2],\n",
       "[                0],\n",
       "[              1.0],\n",
       "[ 1.73205080756888],\n",
       "[              1.0]])"
      ]
     },
     "execution_count": 494,
     "metadata": {},
     "output_type": "execute_result"
    }
   ],
   "source": [
    "# plug in given values\n",
    "subs_Q2PA= {d1: 1.2, d2: 0.8, d3: 0.8, theta1: 5 * sp.pi /6, theta2: -3 * sp.pi / 7, theta1_dot: 1, theta2_dot: 2}\n",
    "\n",
    "print(\"The Spatial Twist of frame c in respect to frame 0 with the given values: \")\n",
    "twist_0c_spatial.subs(subs_Q2PA).evalf()"
   ]
  },
  {
   "cell_type": "code",
   "execution_count": 495,
   "metadata": {},
   "outputs": [
    {
     "name": "stdout",
     "output_type": "stream",
     "text": [
      "The Body Twist of frame c in respect to frame 0 with the given values: \n"
     ]
    },
    {
     "data": {
      "text/latex": [
       "$\\displaystyle \\left[\\begin{matrix}-0.779942329745459\\\\1.77801674716505\\\\-0.779942329745459\\\\-2.0\\\\-0.974927912181824\\\\-0.222520933956314\\end{matrix}\\right]$"
      ],
      "text/plain": [
       "Matrix([\n",
       "[-0.779942329745459],\n",
       "[  1.77801674716505],\n",
       "[-0.779942329745459],\n",
       "[              -2.0],\n",
       "[-0.974927912181824],\n",
       "[-0.222520933956314]])"
      ]
     },
     "execution_count": 495,
     "metadata": {},
     "output_type": "execute_result"
    }
   ],
   "source": [
    "print(\"The Body Twist of frame c in respect to frame 0 with the given values: \")\n",
    "twist_0c_body.subs(subs_Q2PA).evalf()"
   ]
  },
  {
   "cell_type": "markdown",
   "metadata": {},
   "source": [
    "## Part B\n",
    "(b) At the same pose in part (a), what are the body and spatial twists of frame {2}?\n",
    "\n",
    "We will start by solving the forward kinematics of frame 2 in respect to frame 0\n",
    "Then we will plug in the pose and find the twist!"
   ]
  },
  {
   "cell_type": "code",
   "execution_count": 468,
   "metadata": {},
   "outputs": [
    {
     "name": "stdout",
     "output_type": "stream",
     "text": [
      "This is the spatial twist of frame 2 with respect of frame 0.\n",
      "v is on top, omega is on bottom\n"
     ]
    },
    {
     "data": {
      "text/latex": [
       "$\\displaystyle \\left[\\begin{matrix}\\dot{\\theta_2} d_{1} \\cos{\\left(\\theta_{1} \\right)}\\\\\\dot{\\theta_2} d_{1} \\sin{\\left(\\theta_{1} \\right)}\\\\0\\\\\\dot{\\theta_2} \\sin{\\left(\\theta_{1} \\right)}\\\\- \\dot{\\theta_2} \\cos{\\left(\\theta_{1} \\right)}\\\\\\dot{\\theta_1}\\end{matrix}\\right]$"
      ],
      "text/plain": [
       "Matrix([\n",
       "[\\dot{\\theta_2}*d1*cos(theta1)],\n",
       "[\\dot{\\theta_2}*d1*sin(theta1)],\n",
       "[                            0],\n",
       "[   \\dot{\\theta_2}*sin(theta1)],\n",
       "[  -\\dot{\\theta_2}*cos(theta1)],\n",
       "[               \\dot{\\theta_1}]])"
      ]
     },
     "execution_count": 468,
     "metadata": {},
     "output_type": "execute_result"
    }
   ],
   "source": [
    "# Find the spatial twist from frame 0 to 2 \n",
    "\n",
    "# Construct spatial angular velocity in order to find R02_dot_spatial\n",
    "w02_0 = w01_0 + w12_0                         # This is the spatial angular velocity of frame 2 in respect to 0\n",
    "w02_0_skew = sp.Matrix(skew(np.array(w02_0))) # this is the skew of that angular velocity\n",
    "\n",
    "# Extract rotation matrix of frame 2 in respect to frame 0\n",
    "R02 = T02[:3,:3]\n",
    "R02 = sp.Matrix(R02)\n",
    "\n",
    "# FIND R02_dot_spatial using angular velocity spatial and R02\n",
    "R02_dot_spatial = sp.simplify(w02_0_skew @ sp.Matrix(R02))\n",
    "\n",
    "# Extract position matrix of frame 2 in respect to frame 0\n",
    "t02 = T02[:3,3]\n",
    "\n",
    "# Find t02_dot by taking the derivative of t assuming the thetas are functions of time\n",
    "t02_dot_spatial = sp.diff(t02.subs({theta1: theta1_function_of_time, theta2: theta2_function_of_time}), time).subs({theta1_function_of_time: theta1, theta2_function_of_time: theta2})\n",
    "\n",
    "# Construct the transformation dot by plugging it all in\n",
    "T02_dot_spatial = sp.Matrix.hstack(sp.Matrix.vstack(R02_dot_spatial, sp.Matrix([0,0,0]).transpose()), sp.Matrix.vstack(t02_dot_spatial, sp.Matrix([0]))) #smush the r dot matrix and the t dot matrix together into the transformation matrix derivative\n",
    "\n",
    "# Construct the spatial twist\n",
    "twist_02_skew_spatial = sp.simplify(T02_dot_spatial @ (T02.inv()))\n",
    "twist_02_spatial = sp.Matrix(vexa(np.array(twist_02_skew_spatial)))\n",
    "print(\"This is the spatial twist of frame 2 with respect of frame 0.\\nv is on top, omega is on bottom\")  \n",
    "twist_02_spatial\n",
    "\n"
   ]
  },
  {
   "cell_type": "code",
   "execution_count": 469,
   "metadata": {},
   "outputs": [
    {
     "name": "stdout",
     "output_type": "stream",
     "text": [
      "This is the body twist of frame 2 with respect of frame 0.\n",
      "v is on top, omega is on bottom\n"
     ]
    },
    {
     "data": {
      "text/latex": [
       "$\\displaystyle \\left[\\begin{matrix}\\dot{\\theta_1} d_{2} \\cos{\\left(\\theta_{2} \\right)}\\\\0\\\\\\dot{\\theta_1} d_{2} \\sin{\\left(\\theta_{2} \\right)}\\\\\\dot{\\theta_1} \\sin{\\left(\\theta_{2} \\right)}\\\\\\dot{\\theta_2}\\\\- \\dot{\\theta_1} \\cos{\\left(\\theta_{2} \\right)}\\end{matrix}\\right]$"
      ],
      "text/plain": [
       "Matrix([\n",
       "[\\dot{\\theta_1}*d2*cos(theta2)],\n",
       "[                            0],\n",
       "[\\dot{\\theta_1}*d2*sin(theta2)],\n",
       "[   \\dot{\\theta_1}*sin(theta2)],\n",
       "[               \\dot{\\theta_2}],\n",
       "[  -\\dot{\\theta_1}*cos(theta2)]])"
      ]
     },
     "execution_count": 469,
     "metadata": {},
     "output_type": "execute_result"
    }
   ],
   "source": [
    "# Find the body twist from frame 0 to 2 \n",
    "\n",
    "# Construct body angular velocity in order to find R02_dot_body\n",
    "# Each angular velocity needs to be expressed in frame 2\n",
    "w01_2 = R02.transpose() @ w01_0\n",
    "w12_2 = sp.Matrix(R12.A).transpose() @ w12_1\n",
    "\n",
    "w02_2 = w01_2 + w12_2                         # This is the body angular velocity of frame 2 \n",
    "w02_2_skew = sp.Matrix(skew(np.array(w02_2))) # this is the skew of that angular velocity\n",
    "\n",
    "# FIND R0c_dot_body using angular velocity body and R0c\n",
    "R02_dot_body = sp.simplify(R02 @ w02_2_skew)\n",
    "\n",
    "# Find t02_dot by taking the derivative of t assuming the thetas are functions of time\n",
    "t02_dot_body = sp.diff(t02.subs({theta1: theta1_function_of_time, theta2: theta2_function_of_time}), time).subs({theta1_function_of_time: theta1, theta2_function_of_time: theta2})\n",
    "\n",
    "# Construct the transformation dot by plugging it all in\n",
    "T02_dot_body = sp.Matrix.hstack(sp.Matrix.vstack(R02_dot_body, sp.Matrix([0,0,0]).transpose()), sp.Matrix.vstack(t02_dot_body, sp.Matrix([0]))) #smush the r dot matrix and the t dot matrix together into the tranformation matrix derivative\n",
    "\n",
    "# Construct the body twist\n",
    "twist_02_skew_body = sp.simplify((T02.inv()) @ T02_dot_body )\n",
    "twist_02_body = sp.Matrix(vexa(np.array(twist_02_skew_body)))\n",
    "print(\"This is the body twist of frame 2 with respect of frame 0.\\nv is on top, omega is on bottom\")  \n",
    "twist_02_body\n"
   ]
  },
  {
   "cell_type": "code",
   "execution_count": 470,
   "metadata": {},
   "outputs": [
    {
     "name": "stdout",
     "output_type": "stream",
     "text": [
      "The body velocity according to the adjoint\n"
     ]
    },
    {
     "data": {
      "text/latex": [
       "$\\displaystyle \\left[\\begin{matrix}\\dot{\\theta_1} d_{2} \\cos{\\left(\\theta_{2} \\right)}\\\\0\\\\\\dot{\\theta_1} d_{2} \\sin{\\left(\\theta_{2} \\right)}\\\\\\dot{\\theta_1} \\sin{\\left(\\theta_{2} \\right)}\\\\\\dot{\\theta_2}\\\\- \\dot{\\theta_1} \\cos{\\left(\\theta_{2} \\right)}\\end{matrix}\\right]$"
      ],
      "text/plain": [
       "Matrix([\n",
       "[\\dot{\\theta_1}*d2*cos(theta2)],\n",
       "[                            0],\n",
       "[\\dot{\\theta_1}*d2*sin(theta2)],\n",
       "[   \\dot{\\theta_1}*sin(theta2)],\n",
       "[               \\dot{\\theta_2}],\n",
       "[  -\\dot{\\theta_1}*cos(theta2)]])"
      ]
     },
     "execution_count": 470,
     "metadata": {},
     "output_type": "execute_result"
    }
   ],
   "source": [
    "# Verify these with the Adjoint\n",
    "print(\"The body velocity according to the adjoint\")\n",
    "sp.simplify(sp.Matrix(tr2adjoint(np.array(T02.inv()))) @ twist_02_spatial)"
   ]
  },
  {
   "cell_type": "code",
   "execution_count": 496,
   "metadata": {},
   "outputs": [
    {
     "name": "stdout",
     "output_type": "stream",
     "text": [
      "The Spatial Twist of frame 2 in respect to frame 0 with the given values: \n"
     ]
    },
    {
     "data": {
      "text/latex": [
       "$\\displaystyle \\left[\\begin{matrix}-2.07846096908265\\\\1.2\\\\0\\\\1.0\\\\1.73205080756888\\\\1.0\\end{matrix}\\right]$"
      ],
      "text/plain": [
       "Matrix([\n",
       "[-2.07846096908265],\n",
       "[              1.2],\n",
       "[                0],\n",
       "[              1.0],\n",
       "[ 1.73205080756888],\n",
       "[              1.0]])"
      ]
     },
     "execution_count": 496,
     "metadata": {},
     "output_type": "execute_result"
    }
   ],
   "source": [
    "subs_Q2Pb= {d1: 1.2, d2: 0.8, d3: 0.8, theta1: 5 * sp.pi /6, theta2: -3 * sp.pi / 7, theta1_dot: 1, theta2_dot: 2}\n",
    "\n",
    "print(\"The Spatial Twist of frame 2 in respect to frame 0 with the given values: \")\n",
    "twist_02_spatial.subs(subs_Q2Pb).evalf()"
   ]
  },
  {
   "cell_type": "code",
   "execution_count": 497,
   "metadata": {},
   "outputs": [
    {
     "name": "stdout",
     "output_type": "stream",
     "text": [
      "The Body Twist of frame 2 in respect to frame 0 with the given values: \n"
     ]
    },
    {
     "data": {
      "text/latex": [
       "$\\displaystyle \\left[\\begin{matrix}0.178016747165052\\\\0\\\\-0.779942329745459\\\\-0.974927912181824\\\\2.0\\\\-0.222520933956314\\end{matrix}\\right]$"
      ],
      "text/plain": [
       "Matrix([\n",
       "[ 0.178016747165052],\n",
       "[                 0],\n",
       "[-0.779942329745459],\n",
       "[-0.974927912181824],\n",
       "[               2.0],\n",
       "[-0.222520933956314]])"
      ]
     },
     "execution_count": 497,
     "metadata": {},
     "output_type": "execute_result"
    }
   ],
   "source": [
    "print(\"The Body Twist of frame 2 in respect to frame 0 with the given values: \")\n",
    "twist_02_body.subs(subs_Q2Pb).evalf()"
   ]
  },
  {
   "cell_type": "markdown",
   "metadata": {},
   "source": [
    "## Part c\n",
    "(c) At the same pose in part (a), if the end-effector frame $ \\{C\\} $ is moving with \n",
    "a body twist given by\n",
    "\n",
    "$$\n",
    "{}^cV_c = (\\mathbf{v}_c, \\boldsymbol{\\omega}_c) = \n",
    "\\begin{bmatrix} 0.39 & 0.871 & 0.39 & -1.2 & 0.487 & 0.111 \\end{bmatrix}^{\\top}\n",
    "$$\n",
    "\n",
    "what are the joint rates?\n",
    "\n",
    "*Note that v and ${\\omega}$ have been swapped from the instructions in order to fit our notation*\n"
   ]
  },
  {
   "cell_type": "code",
   "execution_count": 478,
   "metadata": {},
   "outputs": [
    {
     "name": "stdout",
     "output_type": "stream",
     "text": [
      "Theta1_dot calculated from all formulas found (rad/s):\n",
      "-0.500036970845370\n",
      "-0.500036970845370\n",
      "-0.499524112413734\n",
      "-0.498829472025278\n",
      "-0.499952961827136\n",
      "\n",
      "Theta2_dot calculated from the 1 formula found (rad/s):\n",
      "1.20000000000000\n"
     ]
    }
   ],
   "source": [
    "body_subs = {\n",
    "    v_x_body: 0.39,\n",
    "    v_y_body: 0.871,\n",
    "    v_z_body: 0.39,\n",
    "    w_x_body: -1.2,\n",
    "    w_y_body: 0.487,\n",
    "    w_z_body: 0.111,\n",
    "    d1: 1.2,\n",
    "    d2: 0.8,\n",
    "    d3: 0.8,\n",
    "    theta1: 5 * sp.pi / 6,\n",
    "    theta2: -3*sp.pi / 7\n",
    "}\n",
    "\n",
    "print(\"Theta1_dot calculated from all formulas found (rad/s):\")\n",
    "print(sp.N(theta1_dot_body_solutions[0].subs(body_subs)))\n",
    "print(sp.N(theta1_dot_body_solutions[1].subs(body_subs)))\n",
    "print(sp.N(theta1_dot_body_solutions[2].subs(body_subs)))\n",
    "print(sp.N(theta1_dot_body_solutions[3].subs(body_subs)))\n",
    "print(sp.N(theta1_dot_body_solutions[4].subs(body_subs)))\n",
    "\n",
    "print(\"\\nTheta2_dot calculated from the 1 formula found (rad/s):\")\n",
    "print(sp.N(theta2_dot_body_solutions[0].subs(body_subs)))"
   ]
  },
  {
   "cell_type": "markdown",
   "metadata": {},
   "source": [
    "### Part c Answer:\n",
    "\n",
    "The joint rates found are: \n",
    "\n",
    "$$\n",
    "\\dot{\\theta}_1 = -0.5 \\text{ rad/s}, \\quad \\dot{\\theta}_2 = 1.2 \\text{ rad/s}\n",
    "$$\n"
   ]
  },
  {
   "cell_type": "markdown",
   "metadata": {},
   "source": [
    "## Part d\n",
    "(d) Repeat part (c) for the case where the spatial twist of the end-effector is \n",
    "given by\n",
    "\n",
    "$$\n",
    "{}^0V_c = (\\mathbf{v}_c, \\boldsymbol{\\omega}_c) = \n",
    "\\begin{bmatrix} -1.247 & 0.72 & 0 & 0.6 & 1.039 & -0.5 \\end{bmatrix}^{\\top}\n",
    "$$\n",
    "*Note that v and ${\\omega}$ have been swapped from the instructions in order to fit our notation*\n"
   ]
  },
  {
   "cell_type": "code",
   "execution_count": 481,
   "metadata": {},
   "outputs": [
    {
     "name": "stdout",
     "output_type": "stream",
     "text": [
      "Theta1_dot calculated from the 1 formula found (rad/s):\n",
      "-0.500000000000000\n",
      "\n",
      "Theta2_dot calculated from all the formulas found (rad/s):\n",
      "1.19992630946577\n",
      "1.20000000000000\n",
      "1.20000000000000\n"
     ]
    }
   ],
   "source": [
    "spatial_subs = {\n",
    "    v_x_spatial: -1.247,\n",
    "    v_y_spatial: 0.72,\n",
    "    v_z_spatial: 0.0,\n",
    "    w_x_spatial: 0.6,\n",
    "    w_y_spatial: 1.039,\n",
    "    w_z_spatial: -0.5,\n",
    "    d1: 1.2,\n",
    "    d2: 0.8,\n",
    "    d3: 0.8,\n",
    "    theta1: 5 * sp.pi / 6,\n",
    "    theta2: -3*sp.pi / 7\n",
    "}\n",
    "\n",
    "print(\"Theta1_dot calculated from the 1 formula found (rad/s):\")\n",
    "print(sp.N(theta1_dot_spatial_solutions[0].subs(spatial_subs)))\n",
    "\n",
    "print(\"\\nTheta2_dot calculated from all the formulas found (rad/s):\")\n",
    "print(sp.N(theta2_dot_spatial_solutions[0].subs(spatial_subs)))\n",
    "print(sp.N(theta2_dot_spatial_solutions[1].subs(spatial_subs)))\n",
    "print(sp.N(theta2_dot_spatial_solutions[3].subs(spatial_subs)))\n"
   ]
  },
  {
   "cell_type": "markdown",
   "metadata": {},
   "source": [
    "### Part d Answer:\n",
    "\n",
    "The joint rates found are: \n",
    "\n",
    "$$\n",
    "\\dot{\\theta}_1 = -0.5 \\text{ rad/s}, \\quad \\dot{\\theta}_2 = 1.2 \\text{ rad/s}\n",
    "$$\n"
   ]
  }
 ],
 "metadata": {
  "kernelspec": {
   "display_name": ".venv",
   "language": "python",
   "name": "python3"
  },
  "language_info": {
   "codemirror_mode": {
    "name": "ipython",
    "version": 3
   },
   "file_extension": ".py",
   "mimetype": "text/x-python",
   "name": "python",
   "nbconvert_exporter": "python",
   "pygments_lexer": "ipython3",
   "version": "3.12.8"
  }
 },
 "nbformat": 4,
 "nbformat_minor": 2
}
